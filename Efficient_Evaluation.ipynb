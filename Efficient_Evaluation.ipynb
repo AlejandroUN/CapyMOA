{
 "cells": [
  {
   "cell_type": "markdown",
   "id": "14c5519e-9c3a-4602-ae82-ac0914114b7d",
   "metadata": {},
   "source": [
    "## Testing efficient methods for evaluation\n",
    "\n",
    "* Using prequential, test-then-train and windowed evaluation. We show how the *_fast versions can performance. \n",
    "* The *_fast methods rely on the MOA implementation ```PrequentialEvaluation(stream, learner, ...)``` from ```moa.evaluation.EfficientEvaluationLoops```\n",
    "* Performance may be affected due to data reading and where data sits (i.e. in memory or in disk).\n",
    "  * When working with CSV files, the conversion process involves using NumpyStream, resulting in data being stored in memory as an Instances object (ARFF). As a result, the *_fast evaluation methods do not yield any performance improvement.\n",
    "  * When ARFF files are employed, the data resides on disk, and each call to ```next_instance()``` necessitates reading a new row from the file. This can be perceived as a potential bottleneck, and future implementations could explore ways to enhance data access efficiency (like caching).\n",
    "\n",
    "* [EXPERIMENTAL] Changed the behavior of *_evaluation() and *_evaluation_fast() such that if NumpyStream is used, then defaults to *_evaluation() and if not, *_evaluation_fast() is used. **Setting optimise=False disables this behavior.**\n",
    "\n",
    "**Notebook last updated on 05/10/2023**"
   ]
  },
  {
   "cell_type": "code",
   "execution_count": 1,
   "id": "6720bad5-6c8e-4f9e-be8b-0b295989bf3d",
   "metadata": {},
   "outputs": [
    {
     "name": "stdout",
     "output_type": "stream",
     "text": [
      "MOA jar path location (config.ini): /Users/gomeshe/Dropbox/ciencia_computacao/dev/main-projects/MOABridge/jar/moa.jar\n",
      "JVM Location (system): \n",
      "/Users/gomeshe/Library/Java/JavaVirtualMachines/openjdk-20.0.1/Contents/Home\n",
      "JVM args: ['-Xmx8g', '-Xss10M']\n",
      "Sucessfully started the JVM and added MOA jar to the class path\n"
     ]
    }
   ],
   "source": [
    "# Create the JVM and add the MOA jar to the classpath\n",
    "from prepare_jpype import start_jpype\n",
    "start_jpype()"
   ]
  },
  {
   "cell_type": "markdown",
   "id": "0ca1a249-6141-40a4-9f1c-a7c05482fed7",
   "metadata": {},
   "source": [
    "# File paths"
   ]
  },
  {
   "cell_type": "code",
   "execution_count": 2,
   "id": "fad18e8c-21a5-4e56-84a4-c83102e890df",
   "metadata": {},
   "outputs": [],
   "source": [
    "hyper_arff_file_path = '/Users/gomeshe/Desktop/data/Hyper100k.arff'\n",
    "covtfd_arff_file_path = '/Users/gomeshe/Desktop/data/covtNorm_fd2_numDummy50_conceptLen193669.arff'\n",
    "# Stream with 580k instances and around 100 features (csv)\n",
    "covtfd_csv_file_path = '/Users/gomeshe/Desktop/data/covtFD.csv'"
   ]
  },
  {
   "cell_type": "markdown",
   "id": "84134502-b044-485c-99b9-c6e7240f3b47",
   "metadata": {},
   "source": [
    "## Real stream (arff) with 100k and ARF\n",
    "\n",
    "```EvaluatePrequential -l (meta.AdaptiveRandomForest -l (ARFHoeffdingTree -k 6 -e 2000000 -g 50 -c 0.01) -s 30 -x (ADWINChangeDetector -a 0.001) -p (ADWINChangeDetector -a 0.01)) -s (ArffFileStream -f /Users/gomeshe/Desktop/data/Hyper100k.arff) -e BasicClassificationPerformanceEvaluator -f 1000000```"
   ]
  },
  {
   "cell_type": "code",
   "execution_count": 3,
   "id": "5309a603-5a17-4a21-aeae-5cca3b64537c",
   "metadata": {},
   "outputs": [
    {
     "data": {
      "text/plain": [
       "{'learner': 'AdaptiveRandomForest',\n",
       " 'cumulative': <evaluation.ClassificationEvaluator at 0x12b4dce50>,\n",
       " 'wallclock': 50.533289194107056,\n",
       " 'cpu_time': 61.535568999999995}"
      ]
     },
     "metadata": {},
     "output_type": "display_data"
    },
    {
     "data": {
      "text/html": [
       "<div>\n",
       "<style scoped>\n",
       "    .dataframe tbody tr th:only-of-type {\n",
       "        vertical-align: middle;\n",
       "    }\n",
       "\n",
       "    .dataframe tbody tr th {\n",
       "        vertical-align: top;\n",
       "    }\n",
       "\n",
       "    .dataframe thead th {\n",
       "        text-align: right;\n",
       "    }\n",
       "</style>\n",
       "<table border=\"1\" class=\"dataframe\">\n",
       "  <thead>\n",
       "    <tr style=\"text-align: right;\">\n",
       "      <th></th>\n",
       "      <th>classified instances</th>\n",
       "      <th>classifications correct (percent)</th>\n",
       "      <th>Kappa Statistic (percent)</th>\n",
       "      <th>Kappa Temporal Statistic (percent)</th>\n",
       "      <th>Kappa M Statistic (percent)</th>\n",
       "    </tr>\n",
       "  </thead>\n",
       "  <tbody>\n",
       "  </tbody>\n",
       "</table>\n",
       "</div>"
      ],
      "text/plain": [
       "Empty DataFrame\n",
       "Columns: [classified instances, classifications correct (percent), Kappa Statistic (percent), Kappa Temporal Statistic (percent), Kappa M Statistic (percent)]\n",
       "Index: []"
      ]
     },
     "metadata": {},
     "output_type": "display_data"
    },
    {
     "name": "stdout",
     "output_type": "stream",
     "text": [
      "87.51299999999999\n"
     ]
    }
   ],
   "source": [
    "from stream import stream_from_file\n",
    "from MOALearners import MOAClassifier\n",
    "from evaluation import test_then_train_evaluation_fast\n",
    "from ensembles import AdaptiveRandomForest\n",
    "\n",
    "learner = AdaptiveRandomForest(ensemble_size=30)\n",
    "\n",
    "stream = stream_from_file(path_to_csv_or_arff=hyper_arff_file_path, class_index=-1)\n",
    "\n",
    "results = test_then_train_evaluation_fast(stream=stream, learner=learner, max_instances=None, sample_frequency=None)\n",
    "\n",
    "display(results)\n",
    "display(results['cumulative'].metrics_per_window())\n",
    "print(results['cumulative'].accuracy())"
   ]
  },
  {
   "cell_type": "code",
   "execution_count": 4,
   "id": "e43c35c9-4baa-4929-bd3d-f385ff547379",
   "metadata": {},
   "outputs": [
    {
     "data": {
      "text/plain": [
       "{'learner': 'AdaptiveRandomForest',\n",
       " 'cumulative': <evaluation.ClassificationEvaluator at 0x105b0bd00>,\n",
       " 'wallclock': 54.932321071624756,\n",
       " 'cpu_time': 60.326436000000015}"
      ]
     },
     "metadata": {},
     "output_type": "display_data"
    },
    {
     "data": {
      "text/html": [
       "<div>\n",
       "<style scoped>\n",
       "    .dataframe tbody tr th:only-of-type {\n",
       "        vertical-align: middle;\n",
       "    }\n",
       "\n",
       "    .dataframe tbody tr th {\n",
       "        vertical-align: top;\n",
       "    }\n",
       "\n",
       "    .dataframe thead th {\n",
       "        text-align: right;\n",
       "    }\n",
       "</style>\n",
       "<table border=\"1\" class=\"dataframe\">\n",
       "  <thead>\n",
       "    <tr style=\"text-align: right;\">\n",
       "      <th></th>\n",
       "      <th>classified instances</th>\n",
       "      <th>classifications correct (percent)</th>\n",
       "      <th>Kappa Statistic (percent)</th>\n",
       "      <th>Kappa Temporal Statistic (percent)</th>\n",
       "      <th>Kappa M Statistic (percent)</th>\n",
       "    </tr>\n",
       "  </thead>\n",
       "  <tbody>\n",
       "  </tbody>\n",
       "</table>\n",
       "</div>"
      ],
      "text/plain": [
       "Empty DataFrame\n",
       "Columns: [classified instances, classifications correct (percent), Kappa Statistic (percent), Kappa Temporal Statistic (percent), Kappa M Statistic (percent)]\n",
       "Index: []"
      ]
     },
     "metadata": {},
     "output_type": "display_data"
    },
    {
     "name": "stdout",
     "output_type": "stream",
     "text": [
      "87.51299999999999\n"
     ]
    }
   ],
   "source": [
    "from stream import stream_from_file\n",
    "from MOALearners import MOAClassifier\n",
    "from evaluation import test_then_train_evaluation\n",
    "from ensembles import AdaptiveRandomForest\n",
    "\n",
    "learner = AdaptiveRandomForest(ensemble_size=30)\n",
    "\n",
    "stream = stream_from_file(path_to_csv_or_arff=hyper_arff_file_path, class_index=-1)\n",
    "\n",
    "results = test_then_train_evaluation(stream=stream, learner=learner, max_instances=None, sample_frequency=None, optimise=False)\n",
    "\n",
    "display(results)\n",
    "display(results['cumulative'].metrics_per_window())\n",
    "print(results['cumulative'].accuracy())"
   ]
  },
  {
   "cell_type": "markdown",
   "id": "bafd498b-c680-4f86-bf0b-26533c2fa44b",
   "metadata": {},
   "source": [
    "## Synthetic 10kk stream (RTG) with Naive Bayes\n",
    "\n",
    "```EvaluatePrequential -l bayes.NaiveBayes -e BasicClassificationPerformanceEvaluator -i 10000000 -f 10000000```"
   ]
  },
  {
   "cell_type": "code",
   "execution_count": 5,
   "id": "25c758bb-886a-4b22-b268-165aa1b71a56",
   "metadata": {},
   "outputs": [
    {
     "data": {
      "text/plain": [
       "{'learner': 'NaiveBayes',\n",
       " 'cumulative': <evaluation.ClassificationEvaluator at 0x103a46b80>,\n",
       " 'wallclock': 12.506047010421753,\n",
       " 'cpu_time': 13.003150000000005}"
      ]
     },
     "metadata": {},
     "output_type": "display_data"
    },
    {
     "data": {
      "text/html": [
       "<div>\n",
       "<style scoped>\n",
       "    .dataframe tbody tr th:only-of-type {\n",
       "        vertical-align: middle;\n",
       "    }\n",
       "\n",
       "    .dataframe tbody tr th {\n",
       "        vertical-align: top;\n",
       "    }\n",
       "\n",
       "    .dataframe thead th {\n",
       "        text-align: right;\n",
       "    }\n",
       "</style>\n",
       "<table border=\"1\" class=\"dataframe\">\n",
       "  <thead>\n",
       "    <tr style=\"text-align: right;\">\n",
       "      <th></th>\n",
       "      <th>classified instances</th>\n",
       "      <th>classifications correct (percent)</th>\n",
       "      <th>Kappa Statistic (percent)</th>\n",
       "      <th>Kappa Temporal Statistic (percent)</th>\n",
       "      <th>Kappa M Statistic (percent)</th>\n",
       "    </tr>\n",
       "  </thead>\n",
       "  <tbody>\n",
       "  </tbody>\n",
       "</table>\n",
       "</div>"
      ],
      "text/plain": [
       "Empty DataFrame\n",
       "Columns: [classified instances, classifications correct (percent), Kappa Statistic (percent), Kappa Temporal Statistic (percent), Kappa M Statistic (percent)]\n",
       "Index: []"
      ]
     },
     "metadata": {},
     "output_type": "display_data"
    },
    {
     "name": "stdout",
     "output_type": "stream",
     "text": [
      "73.64807\n"
     ]
    }
   ],
   "source": [
    "from stream import RandomTreeGenerator\n",
    "from MOALearners import MOAClassifier\n",
    "from evaluation import test_then_train_evaluation_fast\n",
    "from moa.classifiers.bayes import NaiveBayes\n",
    "\n",
    "learner = MOAClassifier(moa_learner=NaiveBayes())\n",
    "stream = RandomTreeGenerator()\n",
    "\n",
    "results = test_then_train_evaluation_fast(stream=stream, learner=learner, max_instances=10000000, sample_frequency=None)\n",
    "\n",
    "display(results)\n",
    "display(results['cumulative'].metrics_per_window())\n",
    "print(results['cumulative'].accuracy())"
   ]
  },
  {
   "cell_type": "code",
   "execution_count": 6,
   "id": "d72711dd-0300-416a-a893-0ea2c72a7661",
   "metadata": {},
   "outputs": [
    {
     "data": {
      "text/plain": [
       "{'learner': 'NaiveBayes',\n",
       " 'cumulative': <evaluation.ClassificationEvaluator at 0x12b63bb80>,\n",
       " 'wallclock': 149.2997808456421,\n",
       " 'cpu_time': 149.184702}"
      ]
     },
     "metadata": {},
     "output_type": "display_data"
    },
    {
     "data": {
      "text/html": [
       "<div>\n",
       "<style scoped>\n",
       "    .dataframe tbody tr th:only-of-type {\n",
       "        vertical-align: middle;\n",
       "    }\n",
       "\n",
       "    .dataframe tbody tr th {\n",
       "        vertical-align: top;\n",
       "    }\n",
       "\n",
       "    .dataframe thead th {\n",
       "        text-align: right;\n",
       "    }\n",
       "</style>\n",
       "<table border=\"1\" class=\"dataframe\">\n",
       "  <thead>\n",
       "    <tr style=\"text-align: right;\">\n",
       "      <th></th>\n",
       "      <th>classified instances</th>\n",
       "      <th>classifications correct (percent)</th>\n",
       "      <th>Kappa Statistic (percent)</th>\n",
       "      <th>Kappa Temporal Statistic (percent)</th>\n",
       "      <th>Kappa M Statistic (percent)</th>\n",
       "    </tr>\n",
       "  </thead>\n",
       "  <tbody>\n",
       "  </tbody>\n",
       "</table>\n",
       "</div>"
      ],
      "text/plain": [
       "Empty DataFrame\n",
       "Columns: [classified instances, classifications correct (percent), Kappa Statistic (percent), Kappa Temporal Statistic (percent), Kappa M Statistic (percent)]\n",
       "Index: []"
      ]
     },
     "metadata": {},
     "output_type": "display_data"
    },
    {
     "name": "stdout",
     "output_type": "stream",
     "text": [
      "73.64807\n"
     ]
    }
   ],
   "source": [
    "from stream import RandomTreeGenerator\n",
    "from MOALearners import MOAClassifier\n",
    "from evaluation import test_then_train_evaluation\n",
    "from moa.classifiers.bayes import NaiveBayes\n",
    "\n",
    "learner = MOAClassifier(moa_learner=NaiveBayes())\n",
    "stream = RandomTreeGenerator()\n",
    "\n",
    "results = test_then_train_evaluation(stream=stream, learner=learner, max_instances=10000000, sample_frequency=None, optimise=False)\n",
    "\n",
    "display(results)\n",
    "display(results['cumulative'].metrics_per_window())\n",
    "print(results['cumulative'].accuracy())"
   ]
  },
  {
   "cell_type": "markdown",
   "id": "35e3e8b9-b99e-40ef-9b79-5d90c9e98a3a",
   "metadata": {},
   "source": [
    "## Real stream (covtFD) 580k+ instances with more than 100 features. \n",
    "\n",
    "using Naive Bayes"
   ]
  },
  {
   "cell_type": "code",
   "execution_count": 7,
   "id": "ea5082e4-a58d-4bdf-b7d5-d5fe4de7e50b",
   "metadata": {},
   "outputs": [
    {
     "data": {
      "text/plain": [
       "{'learner': 'NaiveBayes',\n",
       " 'cumulative': <evaluation.ClassificationEvaluator at 0x103a0d9a0>,\n",
       " 'wallclock': 40.007524728775024,\n",
       " 'cpu_time': 42.744568000000015}"
      ]
     },
     "metadata": {},
     "output_type": "display_data"
    },
    {
     "data": {
      "text/html": [
       "<div>\n",
       "<style scoped>\n",
       "    .dataframe tbody tr th:only-of-type {\n",
       "        vertical-align: middle;\n",
       "    }\n",
       "\n",
       "    .dataframe tbody tr th {\n",
       "        vertical-align: top;\n",
       "    }\n",
       "\n",
       "    .dataframe thead th {\n",
       "        text-align: right;\n",
       "    }\n",
       "</style>\n",
       "<table border=\"1\" class=\"dataframe\">\n",
       "  <thead>\n",
       "    <tr style=\"text-align: right;\">\n",
       "      <th></th>\n",
       "      <th>classified instances</th>\n",
       "      <th>classifications correct (percent)</th>\n",
       "      <th>Kappa Statistic (percent)</th>\n",
       "      <th>Kappa Temporal Statistic (percent)</th>\n",
       "      <th>Kappa M Statistic (percent)</th>\n",
       "    </tr>\n",
       "  </thead>\n",
       "  <tbody>\n",
       "  </tbody>\n",
       "</table>\n",
       "</div>"
      ],
      "text/plain": [
       "Empty DataFrame\n",
       "Columns: [classified instances, classifications correct (percent), Kappa Statistic (percent), Kappa Temporal Statistic (percent), Kappa M Statistic (percent)]\n",
       "Index: []"
      ]
     },
     "metadata": {},
     "output_type": "display_data"
    },
    {
     "name": "stdout",
     "output_type": "stream",
     "text": [
      "52.24272862303812\n"
     ]
    }
   ],
   "source": [
    "from stream import stream_from_file\n",
    "from MOALearners import MOAClassifier\n",
    "from evaluation import test_then_train_evaluation_fast\n",
    "from moa.classifiers.bayes import NaiveBayes\n",
    "\n",
    "learner = MOAClassifier(moa_learner=NaiveBayes())\n",
    "\n",
    "stream = stream_from_file(path_to_csv_or_arff=covtfd_arff_file_path, class_index=-1)\n",
    "\n",
    "results = test_then_train_evaluation_fast(stream=stream, learner=learner, max_instances=None, sample_frequency=None)\n",
    "\n",
    "display(results)\n",
    "display(results['cumulative'].metrics_per_window())\n",
    "print(results['cumulative'].accuracy())"
   ]
  },
  {
   "cell_type": "code",
   "execution_count": 8,
   "id": "2e1daa17-d5f4-434b-80ab-fc7b0b96918a",
   "metadata": {},
   "outputs": [
    {
     "data": {
      "text/plain": [
       "{'learner': 'NaiveBayes',\n",
       " 'cumulative': <evaluation.ClassificationEvaluator at 0x105b0bb80>,\n",
       " 'wallclock': 52.40486693382263,\n",
       " 'cpu_time': 52.16139499999997}"
      ]
     },
     "metadata": {},
     "output_type": "display_data"
    },
    {
     "data": {
      "text/html": [
       "<div>\n",
       "<style scoped>\n",
       "    .dataframe tbody tr th:only-of-type {\n",
       "        vertical-align: middle;\n",
       "    }\n",
       "\n",
       "    .dataframe tbody tr th {\n",
       "        vertical-align: top;\n",
       "    }\n",
       "\n",
       "    .dataframe thead th {\n",
       "        text-align: right;\n",
       "    }\n",
       "</style>\n",
       "<table border=\"1\" class=\"dataframe\">\n",
       "  <thead>\n",
       "    <tr style=\"text-align: right;\">\n",
       "      <th></th>\n",
       "      <th>classified instances</th>\n",
       "      <th>classifications correct (percent)</th>\n",
       "      <th>Kappa Statistic (percent)</th>\n",
       "      <th>Kappa Temporal Statistic (percent)</th>\n",
       "      <th>Kappa M Statistic (percent)</th>\n",
       "    </tr>\n",
       "  </thead>\n",
       "  <tbody>\n",
       "  </tbody>\n",
       "</table>\n",
       "</div>"
      ],
      "text/plain": [
       "Empty DataFrame\n",
       "Columns: [classified instances, classifications correct (percent), Kappa Statistic (percent), Kappa Temporal Statistic (percent), Kappa M Statistic (percent)]\n",
       "Index: []"
      ]
     },
     "metadata": {},
     "output_type": "display_data"
    },
    {
     "name": "stdout",
     "output_type": "stream",
     "text": [
      "52.24272862303812\n"
     ]
    }
   ],
   "source": [
    "from stream import stream_from_file\n",
    "from MOALearners import MOAClassifier\n",
    "from evaluation import test_then_train_evaluation\n",
    "from moa.classifiers.bayes import NaiveBayes\n",
    "\n",
    "learner = MOAClassifier(moa_learner=NaiveBayes())\n",
    "\n",
    "stream = stream_from_file(path_to_csv_or_arff=covtfd_arff_file_path, class_index=-1)\n",
    "\n",
    "results = test_then_train_evaluation(stream=stream, learner=learner, max_instances=None, sample_frequency=None, optimise=False)\n",
    "\n",
    "display(results)\n",
    "display(results['cumulative'].metrics_per_window())\n",
    "print(results['cumulative'].accuracy())"
   ]
  },
  {
   "cell_type": "markdown",
   "id": "2e89117d-2fb3-42b4-b22b-897211d13bc1",
   "metadata": {},
   "source": [
    "# Testing the ```prequential_evaluation_fast``` \n",
    "## SRP100 + real dataset with 100k instances\n",
    "\n",
    "```EvaluatePrequential -l (meta.StreamingRandomPatches -s 100) -s (ArffFileStream -f /Users/gomeshe/Dropbox/ciencia_computacao/lecturer/research/ssl_disagreement/datasets/RBFm/RBFm_100k.arff) -f 1000```"
   ]
  },
  {
   "cell_type": "code",
   "execution_count": 9,
   "id": "bd2fed86-8d0a-4d3d-a3bb-d84167013917",
   "metadata": {},
   "outputs": [
    {
     "data": {
      "text/plain": [
       "{'learner': 'StreamingRandomPatches',\n",
       " 'cumulative': <evaluation.ClassificationEvaluator at 0x105b0ba00>,\n",
       " 'windowed': <evaluation.ClassificationWindowedEvaluator at 0x105b0bca0>,\n",
       " 'wallclock': 200.23040914535522,\n",
       " 'cpu_time': 247.14606599999996}"
      ]
     },
     "metadata": {},
     "output_type": "display_data"
    },
    {
     "data": {
      "text/html": [
       "<div>\n",
       "<style scoped>\n",
       "    .dataframe tbody tr th:only-of-type {\n",
       "        vertical-align: middle;\n",
       "    }\n",
       "\n",
       "    .dataframe tbody tr th {\n",
       "        vertical-align: top;\n",
       "    }\n",
       "\n",
       "    .dataframe thead th {\n",
       "        text-align: right;\n",
       "    }\n",
       "</style>\n",
       "<table border=\"1\" class=\"dataframe\">\n",
       "  <thead>\n",
       "    <tr style=\"text-align: right;\">\n",
       "      <th></th>\n",
       "      <th>classified instances</th>\n",
       "      <th>classifications correct (percent)</th>\n",
       "      <th>Kappa Statistic (percent)</th>\n",
       "      <th>Kappa Temporal Statistic (percent)</th>\n",
       "      <th>Kappa M Statistic (percent)</th>\n",
       "    </tr>\n",
       "  </thead>\n",
       "  <tbody>\n",
       "    <tr>\n",
       "      <th>0</th>\n",
       "      <td>10000.0</td>\n",
       "      <td>87.48</td>\n",
       "      <td>74.961242</td>\n",
       "      <td>75.019952</td>\n",
       "      <td>74.808853</td>\n",
       "    </tr>\n",
       "    <tr>\n",
       "      <th>1</th>\n",
       "      <td>20000.0</td>\n",
       "      <td>88.91</td>\n",
       "      <td>77.796914</td>\n",
       "      <td>78.087335</td>\n",
       "      <td>77.362727</td>\n",
       "    </tr>\n",
       "    <tr>\n",
       "      <th>2</th>\n",
       "      <td>30000.0</td>\n",
       "      <td>88.73</td>\n",
       "      <td>77.468328</td>\n",
       "      <td>77.428400</td>\n",
       "      <td>77.585521</td>\n",
       "    </tr>\n",
       "    <tr>\n",
       "      <th>3</th>\n",
       "      <td>40000.0</td>\n",
       "      <td>89.73</td>\n",
       "      <td>79.457065</td>\n",
       "      <td>79.731597</td>\n",
       "      <td>79.298529</td>\n",
       "    </tr>\n",
       "    <tr>\n",
       "      <th>4</th>\n",
       "      <td>50000.0</td>\n",
       "      <td>89.88</td>\n",
       "      <td>79.758769</td>\n",
       "      <td>80.191818</td>\n",
       "      <td>79.514170</td>\n",
       "    </tr>\n",
       "    <tr>\n",
       "      <th>5</th>\n",
       "      <td>60000.0</td>\n",
       "      <td>90.13</td>\n",
       "      <td>80.252137</td>\n",
       "      <td>80.072683</td>\n",
       "      <td>79.836568</td>\n",
       "    </tr>\n",
       "    <tr>\n",
       "      <th>6</th>\n",
       "      <td>70000.0</td>\n",
       "      <td>89.99</td>\n",
       "      <td>79.981095</td>\n",
       "      <td>79.931836</td>\n",
       "      <td>79.980000</td>\n",
       "    </tr>\n",
       "    <tr>\n",
       "      <th>7</th>\n",
       "      <td>80000.0</td>\n",
       "      <td>90.29</td>\n",
       "      <td>80.582614</td>\n",
       "      <td>80.707332</td>\n",
       "      <td>80.252186</td>\n",
       "    </tr>\n",
       "    <tr>\n",
       "      <th>8</th>\n",
       "      <td>90000.0</td>\n",
       "      <td>90.36</td>\n",
       "      <td>80.718084</td>\n",
       "      <td>80.350591</td>\n",
       "      <td>80.819737</td>\n",
       "    </tr>\n",
       "    <tr>\n",
       "      <th>9</th>\n",
       "      <td>100000.0</td>\n",
       "      <td>90.08</td>\n",
       "      <td>80.154011</td>\n",
       "      <td>80.227227</td>\n",
       "      <td>79.951496</td>\n",
       "    </tr>\n",
       "  </tbody>\n",
       "</table>\n",
       "</div>"
      ],
      "text/plain": [
       "   classified instances  classifications correct (percent)  \\\n",
       "0               10000.0                              87.48   \n",
       "1               20000.0                              88.91   \n",
       "2               30000.0                              88.73   \n",
       "3               40000.0                              89.73   \n",
       "4               50000.0                              89.88   \n",
       "5               60000.0                              90.13   \n",
       "6               70000.0                              89.99   \n",
       "7               80000.0                              90.29   \n",
       "8               90000.0                              90.36   \n",
       "9              100000.0                              90.08   \n",
       "\n",
       "   Kappa Statistic (percent)  Kappa Temporal Statistic (percent)  \\\n",
       "0                  74.961242                           75.019952   \n",
       "1                  77.796914                           78.087335   \n",
       "2                  77.468328                           77.428400   \n",
       "3                  79.457065                           79.731597   \n",
       "4                  79.758769                           80.191818   \n",
       "5                  80.252137                           80.072683   \n",
       "6                  79.981095                           79.931836   \n",
       "7                  80.582614                           80.707332   \n",
       "8                  80.718084                           80.350591   \n",
       "9                  80.154011                           80.227227   \n",
       "\n",
       "   Kappa M Statistic (percent)  \n",
       "0                    74.808853  \n",
       "1                    77.362727  \n",
       "2                    77.585521  \n",
       "3                    79.298529  \n",
       "4                    79.514170  \n",
       "5                    79.836568  \n",
       "6                    79.980000  \n",
       "7                    80.252186  \n",
       "8                    80.819737  \n",
       "9                    79.951496  "
      ]
     },
     "metadata": {},
     "output_type": "display_data"
    },
    {
     "name": "stdout",
     "output_type": "stream",
     "text": [
      "89.558\n"
     ]
    }
   ],
   "source": [
    "from stream import stream_from_file\n",
    "from MOALearners import MOAClassifier\n",
    "from moa.classifiers.meta import StreamingRandomPatches\n",
    "from evaluation import prequential_evaluation_fast\n",
    "\n",
    "cl_SRP = MOAClassifier(moa_learner=StreamingRandomPatches(), CLI='-s 100', random_seed=1)\n",
    "\n",
    "stream = stream_from_file(path_to_csv_or_arff=hyper_arff_file_path, class_index=-1)\n",
    "\n",
    "results = prequential_evaluation_fast(stream=stream, learner=cl_SRP, max_instances=None, window_size=10000)\n",
    "\n",
    "display(results)\n",
    "display(results['windowed'].metrics_per_window())\n",
    "print(results['cumulative'].accuracy())"
   ]
  },
  {
   "cell_type": "code",
   "execution_count": 10,
   "id": "5178f3b9-9168-408a-950b-64d196d153d9",
   "metadata": {},
   "outputs": [
    {
     "data": {
      "text/plain": [
       "{'learner': 'StreamingRandomPatches',\n",
       " 'cumulative': <evaluation.ClassificationEvaluator at 0x12b4fb550>,\n",
       " 'windowed': <evaluation.ClassificationWindowedEvaluator at 0x105b0b340>,\n",
       " 'wallclock': 210.6583309173584,\n",
       " 'cpu_time': 251.697494}"
      ]
     },
     "metadata": {},
     "output_type": "display_data"
    },
    {
     "data": {
      "text/html": [
       "<div>\n",
       "<style scoped>\n",
       "    .dataframe tbody tr th:only-of-type {\n",
       "        vertical-align: middle;\n",
       "    }\n",
       "\n",
       "    .dataframe tbody tr th {\n",
       "        vertical-align: top;\n",
       "    }\n",
       "\n",
       "    .dataframe thead th {\n",
       "        text-align: right;\n",
       "    }\n",
       "</style>\n",
       "<table border=\"1\" class=\"dataframe\">\n",
       "  <thead>\n",
       "    <tr style=\"text-align: right;\">\n",
       "      <th></th>\n",
       "      <th>classified instances</th>\n",
       "      <th>classifications correct (percent)</th>\n",
       "      <th>Kappa Statistic (percent)</th>\n",
       "      <th>Kappa Temporal Statistic (percent)</th>\n",
       "      <th>Kappa M Statistic (percent)</th>\n",
       "    </tr>\n",
       "  </thead>\n",
       "  <tbody>\n",
       "    <tr>\n",
       "      <th>0</th>\n",
       "      <td>10000.0</td>\n",
       "      <td>87.48</td>\n",
       "      <td>74.961242</td>\n",
       "      <td>75.019952</td>\n",
       "      <td>74.808853</td>\n",
       "    </tr>\n",
       "    <tr>\n",
       "      <th>1</th>\n",
       "      <td>20000.0</td>\n",
       "      <td>88.91</td>\n",
       "      <td>77.796914</td>\n",
       "      <td>78.087335</td>\n",
       "      <td>77.362727</td>\n",
       "    </tr>\n",
       "    <tr>\n",
       "      <th>2</th>\n",
       "      <td>30000.0</td>\n",
       "      <td>88.73</td>\n",
       "      <td>77.468328</td>\n",
       "      <td>77.428400</td>\n",
       "      <td>77.585521</td>\n",
       "    </tr>\n",
       "    <tr>\n",
       "      <th>3</th>\n",
       "      <td>40000.0</td>\n",
       "      <td>89.73</td>\n",
       "      <td>79.457065</td>\n",
       "      <td>79.731597</td>\n",
       "      <td>79.298529</td>\n",
       "    </tr>\n",
       "    <tr>\n",
       "      <th>4</th>\n",
       "      <td>50000.0</td>\n",
       "      <td>89.88</td>\n",
       "      <td>79.758769</td>\n",
       "      <td>80.191818</td>\n",
       "      <td>79.514170</td>\n",
       "    </tr>\n",
       "    <tr>\n",
       "      <th>5</th>\n",
       "      <td>60000.0</td>\n",
       "      <td>90.13</td>\n",
       "      <td>80.252137</td>\n",
       "      <td>80.072683</td>\n",
       "      <td>79.836568</td>\n",
       "    </tr>\n",
       "    <tr>\n",
       "      <th>6</th>\n",
       "      <td>70000.0</td>\n",
       "      <td>89.99</td>\n",
       "      <td>79.981095</td>\n",
       "      <td>79.931836</td>\n",
       "      <td>79.980000</td>\n",
       "    </tr>\n",
       "    <tr>\n",
       "      <th>7</th>\n",
       "      <td>80000.0</td>\n",
       "      <td>90.29</td>\n",
       "      <td>80.582614</td>\n",
       "      <td>80.707332</td>\n",
       "      <td>80.252186</td>\n",
       "    </tr>\n",
       "    <tr>\n",
       "      <th>8</th>\n",
       "      <td>90000.0</td>\n",
       "      <td>90.36</td>\n",
       "      <td>80.718084</td>\n",
       "      <td>80.350591</td>\n",
       "      <td>80.819737</td>\n",
       "    </tr>\n",
       "    <tr>\n",
       "      <th>9</th>\n",
       "      <td>100000.0</td>\n",
       "      <td>90.08</td>\n",
       "      <td>80.154011</td>\n",
       "      <td>80.227227</td>\n",
       "      <td>79.951496</td>\n",
       "    </tr>\n",
       "  </tbody>\n",
       "</table>\n",
       "</div>"
      ],
      "text/plain": [
       "   classified instances  classifications correct (percent)  \\\n",
       "0               10000.0                              87.48   \n",
       "1               20000.0                              88.91   \n",
       "2               30000.0                              88.73   \n",
       "3               40000.0                              89.73   \n",
       "4               50000.0                              89.88   \n",
       "5               60000.0                              90.13   \n",
       "6               70000.0                              89.99   \n",
       "7               80000.0                              90.29   \n",
       "8               90000.0                              90.36   \n",
       "9              100000.0                              90.08   \n",
       "\n",
       "   Kappa Statistic (percent)  Kappa Temporal Statistic (percent)  \\\n",
       "0                  74.961242                           75.019952   \n",
       "1                  77.796914                           78.087335   \n",
       "2                  77.468328                           77.428400   \n",
       "3                  79.457065                           79.731597   \n",
       "4                  79.758769                           80.191818   \n",
       "5                  80.252137                           80.072683   \n",
       "6                  79.981095                           79.931836   \n",
       "7                  80.582614                           80.707332   \n",
       "8                  80.718084                           80.350591   \n",
       "9                  80.154011                           80.227227   \n",
       "\n",
       "   Kappa M Statistic (percent)  \n",
       "0                    74.808853  \n",
       "1                    77.362727  \n",
       "2                    77.585521  \n",
       "3                    79.298529  \n",
       "4                    79.514170  \n",
       "5                    79.836568  \n",
       "6                    79.980000  \n",
       "7                    80.252186  \n",
       "8                    80.819737  \n",
       "9                    79.951496  "
      ]
     },
     "metadata": {},
     "output_type": "display_data"
    },
    {
     "name": "stdout",
     "output_type": "stream",
     "text": [
      "89.558\n"
     ]
    }
   ],
   "source": [
    "from stream import stream_from_file\n",
    "from MOALearners import MOAClassifier\n",
    "from moa.classifiers.meta import StreamingRandomPatches\n",
    "from evaluation import prequential_evaluation\n",
    "\n",
    "cl_SRP = MOAClassifier(moa_learner=StreamingRandomPatches(), CLI='-s 100', random_seed=1)\n",
    "\n",
    "stream = stream_from_file(path_to_csv_or_arff=hyper_arff_file_path, class_index=-1)\n",
    "\n",
    "results = prequential_evaluation(stream=stream, learner=cl_SRP, max_instances=None, window_size=10000, optimise=False)\n",
    "\n",
    "display(results)\n",
    "display(results['windowed'].metrics_per_window())\n",
    "print(results['cumulative'].accuracy())"
   ]
  },
  {
   "cell_type": "markdown",
   "id": "9b1d3d4b-0897-4359-83cf-caa099339e56",
   "metadata": {},
   "source": [
    "# Testing with a large CSV file"
   ]
  },
  {
   "cell_type": "code",
   "execution_count": 11,
   "id": "0691853a-2c5b-4f08-8098-38678dbf6cf1",
   "metadata": {},
   "outputs": [
    {
     "name": "stdout",
     "output_type": "stream",
     "text": [
      "CPU times: user 5min 23s, sys: 7.02 s, total: 5min 30s\n",
      "Wall time: 2min 1s\n"
     ]
    }
   ],
   "source": [
    "%%time\n",
    "from stream import stream_from_file\n",
    "\n",
    "# Loads the csv data to memory, it should take from 1 minute to 2 minutes. \n",
    "stream = stream_from_file(path_to_csv_or_arff=covtfd_csv_file_path, class_index=-1)"
   ]
  },
  {
   "cell_type": "code",
   "execution_count": 12,
   "id": "d1241d2b-1a96-492d-9dde-a37396d04e3f",
   "metadata": {},
   "outputs": [
    {
     "data": {
      "text/plain": [
       "{'learner': 'NaiveBayes',\n",
       " 'cumulative': <evaluation.ClassificationEvaluator at 0x12b66f0d0>,\n",
       " 'wallclock': 40.6551251411438,\n",
       " 'cpu_time': 40.63055299999996}"
      ]
     },
     "metadata": {},
     "output_type": "display_data"
    },
    {
     "data": {
      "text/html": [
       "<div>\n",
       "<style scoped>\n",
       "    .dataframe tbody tr th:only-of-type {\n",
       "        vertical-align: middle;\n",
       "    }\n",
       "\n",
       "    .dataframe tbody tr th {\n",
       "        vertical-align: top;\n",
       "    }\n",
       "\n",
       "    .dataframe thead th {\n",
       "        text-align: right;\n",
       "    }\n",
       "</style>\n",
       "<table border=\"1\" class=\"dataframe\">\n",
       "  <thead>\n",
       "    <tr style=\"text-align: right;\">\n",
       "      <th></th>\n",
       "      <th>classified instances</th>\n",
       "      <th>classifications correct (percent)</th>\n",
       "      <th>Kappa Statistic (percent)</th>\n",
       "      <th>Kappa Temporal Statistic (percent)</th>\n",
       "      <th>Kappa M Statistic (percent)</th>\n",
       "    </tr>\n",
       "  </thead>\n",
       "  <tbody>\n",
       "  </tbody>\n",
       "</table>\n",
       "</div>"
      ],
      "text/plain": [
       "Empty DataFrame\n",
       "Columns: [classified instances, classifications correct (percent), Kappa Statistic (percent), Kappa Temporal Statistic (percent), Kappa M Statistic (percent)]\n",
       "Index: []"
      ]
     },
     "metadata": {},
     "output_type": "display_data"
    },
    {
     "name": "stdout",
     "output_type": "stream",
     "text": [
      "57.97274061936866\n"
     ]
    }
   ],
   "source": [
    "from MOALearners import MOAClassifier\n",
    "from evaluation import test_then_train_evaluation\n",
    "from moa.classifiers.bayes import NaiveBayes\n",
    "\n",
    "learner = MOAClassifier(moa_learner=NaiveBayes())\n",
    "\n",
    "results = test_then_train_evaluation_fast(stream=stream, learner=learner, max_instances=None, sample_frequency=None)\n",
    "\n",
    "display(results)\n",
    "display(results['cumulative'].metrics_per_window())\n",
    "print(results['cumulative'].accuracy())"
   ]
  },
  {
   "cell_type": "code",
   "execution_count": 13,
   "id": "2575e54c-fe55-40e7-863d-fe19f9a81170",
   "metadata": {},
   "outputs": [
    {
     "data": {
      "text/plain": [
       "{'learner': 'NaiveBayes',\n",
       " 'cumulative': <evaluation.ClassificationEvaluator at 0x105b0bd60>,\n",
       " 'wallclock': 40.48186278343201,\n",
       " 'cpu_time': 40.65406299999995}"
      ]
     },
     "metadata": {},
     "output_type": "display_data"
    },
    {
     "data": {
      "text/html": [
       "<div>\n",
       "<style scoped>\n",
       "    .dataframe tbody tr th:only-of-type {\n",
       "        vertical-align: middle;\n",
       "    }\n",
       "\n",
       "    .dataframe tbody tr th {\n",
       "        vertical-align: top;\n",
       "    }\n",
       "\n",
       "    .dataframe thead th {\n",
       "        text-align: right;\n",
       "    }\n",
       "</style>\n",
       "<table border=\"1\" class=\"dataframe\">\n",
       "  <thead>\n",
       "    <tr style=\"text-align: right;\">\n",
       "      <th></th>\n",
       "      <th>classified instances</th>\n",
       "      <th>classifications correct (percent)</th>\n",
       "      <th>Kappa Statistic (percent)</th>\n",
       "      <th>Kappa Temporal Statistic (percent)</th>\n",
       "      <th>Kappa M Statistic (percent)</th>\n",
       "    </tr>\n",
       "  </thead>\n",
       "  <tbody>\n",
       "  </tbody>\n",
       "</table>\n",
       "</div>"
      ],
      "text/plain": [
       "Empty DataFrame\n",
       "Columns: [classified instances, classifications correct (percent), Kappa Statistic (percent), Kappa Temporal Statistic (percent), Kappa M Statistic (percent)]\n",
       "Index: []"
      ]
     },
     "metadata": {},
     "output_type": "display_data"
    },
    {
     "name": "stdout",
     "output_type": "stream",
     "text": [
      "57.97274061936866\n"
     ]
    }
   ],
   "source": [
    "from MOALearners import MOAClassifier\n",
    "from evaluation import test_then_train_evaluation\n",
    "from moa.classifiers.bayes import NaiveBayes\n",
    "\n",
    "learner = MOAClassifier(moa_learner=NaiveBayes())\n",
    "\n",
    "results = test_then_train_evaluation(stream=stream, learner=learner, max_instances=None, sample_frequency=None, optimise=False)\n",
    "\n",
    "display(results)\n",
    "display(results['cumulative'].metrics_per_window())\n",
    "print(results['cumulative'].accuracy())"
   ]
  },
  {
   "cell_type": "markdown",
   "id": "8273d6e8-7c3b-4a0e-9cce-b9a09682da2c",
   "metadata": {},
   "source": [
    "## Using prequential_evaluation_fast"
   ]
  },
  {
   "cell_type": "code",
   "execution_count": 14,
   "id": "0391a974-8983-4a0e-93bc-f9e3f1e01945",
   "metadata": {},
   "outputs": [
    {
     "data": {
      "text/plain": [
       "{'learner': 'NaiveBayes',\n",
       " 'cumulative': <evaluation.ClassificationEvaluator at 0x12b66fe20>,\n",
       " 'windowed': None,\n",
       " 'wallclock': 41.434161901474,\n",
       " 'cpu_time': 40.786838000000216}"
      ]
     },
     "metadata": {},
     "output_type": "display_data"
    },
    {
     "data": {
      "text/html": [
       "<div>\n",
       "<style scoped>\n",
       "    .dataframe tbody tr th:only-of-type {\n",
       "        vertical-align: middle;\n",
       "    }\n",
       "\n",
       "    .dataframe tbody tr th {\n",
       "        vertical-align: top;\n",
       "    }\n",
       "\n",
       "    .dataframe thead th {\n",
       "        text-align: right;\n",
       "    }\n",
       "</style>\n",
       "<table border=\"1\" class=\"dataframe\">\n",
       "  <thead>\n",
       "    <tr style=\"text-align: right;\">\n",
       "      <th></th>\n",
       "      <th>classified instances</th>\n",
       "      <th>classifications correct (percent)</th>\n",
       "      <th>Kappa Statistic (percent)</th>\n",
       "      <th>Kappa Temporal Statistic (percent)</th>\n",
       "      <th>Kappa M Statistic (percent)</th>\n",
       "    </tr>\n",
       "  </thead>\n",
       "  <tbody>\n",
       "  </tbody>\n",
       "</table>\n",
       "</div>"
      ],
      "text/plain": [
       "Empty DataFrame\n",
       "Columns: [classified instances, classifications correct (percent), Kappa Statistic (percent), Kappa Temporal Statistic (percent), Kappa M Statistic (percent)]\n",
       "Index: []"
      ]
     },
     "metadata": {},
     "output_type": "display_data"
    },
    {
     "name": "stdout",
     "output_type": "stream",
     "text": [
      "57.97274061936866\n"
     ]
    }
   ],
   "source": [
    "from MOALearners import MOAClassifier\n",
    "from evaluation import test_then_train_evaluation\n",
    "from moa.classifiers.bayes import NaiveBayes\n",
    "\n",
    "learner = MOAClassifier(moa_learner=NaiveBayes())\n",
    "\n",
    "results = prequential_evaluation_fast(stream=stream, learner=learner, max_instances=None, window_size=None)\n",
    "\n",
    "display(results)\n",
    "display(results['cumulative'].metrics_per_window())\n",
    "print(results['cumulative'].accuracy())"
   ]
  },
  {
   "cell_type": "code",
   "execution_count": 15,
   "id": "a4a61d6c-7524-4e74-a1af-e6cf63360e9f",
   "metadata": {},
   "outputs": [
    {
     "data": {
      "text/plain": [
       "{'learner': 'NaiveBayes',\n",
       " 'cumulative': <evaluation.ClassificationEvaluator at 0x105b0b910>,\n",
       " 'windowed': None,\n",
       " 'wallclock': 40.85849094390869,\n",
       " 'cpu_time': 40.84165000000007}"
      ]
     },
     "metadata": {},
     "output_type": "display_data"
    },
    {
     "data": {
      "text/html": [
       "<div>\n",
       "<style scoped>\n",
       "    .dataframe tbody tr th:only-of-type {\n",
       "        vertical-align: middle;\n",
       "    }\n",
       "\n",
       "    .dataframe tbody tr th {\n",
       "        vertical-align: top;\n",
       "    }\n",
       "\n",
       "    .dataframe thead th {\n",
       "        text-align: right;\n",
       "    }\n",
       "</style>\n",
       "<table border=\"1\" class=\"dataframe\">\n",
       "  <thead>\n",
       "    <tr style=\"text-align: right;\">\n",
       "      <th></th>\n",
       "      <th>classified instances</th>\n",
       "      <th>classifications correct (percent)</th>\n",
       "      <th>Kappa Statistic (percent)</th>\n",
       "      <th>Kappa Temporal Statistic (percent)</th>\n",
       "      <th>Kappa M Statistic (percent)</th>\n",
       "    </tr>\n",
       "  </thead>\n",
       "  <tbody>\n",
       "  </tbody>\n",
       "</table>\n",
       "</div>"
      ],
      "text/plain": [
       "Empty DataFrame\n",
       "Columns: [classified instances, classifications correct (percent), Kappa Statistic (percent), Kappa Temporal Statistic (percent), Kappa M Statistic (percent)]\n",
       "Index: []"
      ]
     },
     "metadata": {},
     "output_type": "display_data"
    },
    {
     "name": "stdout",
     "output_type": "stream",
     "text": [
      "57.97274061936866\n"
     ]
    }
   ],
   "source": [
    "from MOALearners import MOAClassifier\n",
    "from evaluation import test_then_train_evaluation\n",
    "from moa.classifiers.bayes import NaiveBayes\n",
    "\n",
    "learner = MOAClassifier(moa_learner=NaiveBayes())\n",
    "\n",
    "results = prequential_evaluation(stream=stream, learner=learner, max_instances=None, window_size=None, optimise=False)\n",
    "\n",
    "display(results)\n",
    "display(results['cumulative'].metrics_per_window())\n",
    "print(results['cumulative'].accuracy())"
   ]
  },
  {
   "cell_type": "code",
   "execution_count": 16,
   "id": "7679f084-87cf-49b8-88c7-8afc54340acd",
   "metadata": {},
   "outputs": [],
   "source": []
  },
  {
   "cell_type": "code",
   "execution_count": 21,
   "id": "1a8aa9fe-b6cb-4cf3-9210-79a2e549ca0f",
   "metadata": {},
   "outputs": [],
   "source": []
  }
 ],
 "metadata": {
  "kernelspec": {
   "display_name": "Python 3 (ipykernel)",
   "language": "python",
   "name": "python3"
  },
  "language_info": {
   "codemirror_mode": {
    "name": "ipython",
    "version": 3
   },
   "file_extension": ".py",
   "mimetype": "text/x-python",
   "name": "python",
   "nbconvert_exporter": "python",
   "pygments_lexer": "ipython3",
   "version": "3.8.17"
  }
 },
 "nbformat": 4,
 "nbformat_minor": 5
}
