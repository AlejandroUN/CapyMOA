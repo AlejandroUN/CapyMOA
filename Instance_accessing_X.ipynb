{
 "cells": [
  {
   "cell_type": "markdown",
   "id": "b773bf8e-c420-44e1-80a6-99f75dd12268",
   "metadata": {},
   "source": [
    "## Accessing the input data x()\n",
    "\n",
    "* Accessing the input data as a double array from an ```Instance``` through function ```x()```\n",
    "* Instances are represented internally as MOA Instances. \n",
    "* Includes an example of how preprocessing (from MOA) can be used, **maybe this example could be moved elsewhere**\n",
    "* ```x()``` is read-only as of now, so one cannot preprocess instances\n",
    "* **TODO**: Allow modifying ```x()``` so that python-based preprocessing can be used. \n",
    "\n",
    "**notebook last updated on 01/12/2023**"
   ]
  },
  {
   "cell_type": "code",
   "execution_count": 1,
   "id": "b02aaf7b-11b5-4512-8a3b-5c26d8235b3a",
   "metadata": {},
   "outputs": [
    {
     "name": "stdout",
     "output_type": "stream",
     "text": [
      "MOA jar path location (config.ini): ./jar/moa.jar\n",
      "JVM Location (system): \n",
      "/Users/gomeshe/Library/Java/JavaVirtualMachines/openjdk-20.0.1/Contents/Home\n",
      "JVM args: ['-Xmx8g', '-Xss10M']\n",
      "Sucessfully started the JVM and added MOA jar to the class path\n"
     ]
    }
   ],
   "source": [
    "from prepare_jpype import start_jpype\n",
    "\n",
    "start_jpype()"
   ]
  },
  {
   "cell_type": "markdown",
   "id": "96cb3df1-190c-49ea-959b-292559df13e6",
   "metadata": {},
   "source": [
    "## 0. Reading data and accessing x()"
   ]
  },
  {
   "cell_type": "code",
   "execution_count": 2,
   "id": "3b7be7ed-97d2-437a-9ed9-fb71e4f33328",
   "metadata": {},
   "outputs": [
    {
     "name": "stdout",
     "output_type": "stream",
     "text": [
      "x: [0.       0.056443 0.439155 0.003467 0.422915 0.414912], y: 1.0\n",
      "x: [0.021277 0.051699 0.415055 0.003467 0.422915 0.414912], y: 1.0\n",
      "x: [0.042553 0.051489 0.385004 0.003467 0.422915 0.414912], y: 1.0\n",
      "x: [0.06383  0.045485 0.314639 0.003467 0.422915 0.414912], y: 1.0\n",
      "x: [0.085106 0.042482 0.251116 0.003467 0.422915 0.414912], y: 0.0\n",
      "x: [0.106383 0.041161 0.207528 0.003467 0.422915 0.414912], y: 0.0\n",
      "x: [0.12766  0.041161 0.171824 0.003467 0.422915 0.414912], y: 0.0\n",
      "x: [0.148936 0.041161 0.152782 0.003467 0.422915 0.414912], y: 0.0\n",
      "x: [0.170213 0.041161 0.13493  0.003467 0.422915 0.414912], y: 0.0\n",
      "x: [0.191489 0.041161 0.140583 0.003467 0.422915 0.414912], y: 0.0\n",
      "x: [0.212766 0.044374 0.168997 0.003467 0.422915 0.414912], y: 1.0\n",
      "x: [0.234043 0.049868 0.212437 0.003467 0.422915 0.414912], y: 1.0\n",
      "x: [0.255319 0.051489 0.298721 0.003467 0.422915 0.414912], y: 1.0\n",
      "x: [0.276596 0.042482 0.39036  0.003467 0.422915 0.414912], y: 0.0\n",
      "x: [0.297872 0.040861 0.402261 0.003467 0.422915 0.414912], y: 0.0\n",
      "x: [0.319149 0.040711 0.462214 0.003467 0.422915 0.414912], y: 0.0\n",
      "x: [0.340426 0.040861 0.488248 0.003467 0.422915 0.414912], y: 0.0\n",
      "x: [0.361702 0.040711 0.493306 0.003467 0.422915 0.414912], y: 0.0\n",
      "x: [0.382979 0.041041 0.53258  0.003467 0.422915 0.414912], y: 0.0\n",
      "x: [0.404255 0.041161 0.546415 0.003467 0.422915 0.414912], y: 0.0\n"
     ]
    }
   ],
   "source": [
    "from stream import stream_from_file\n",
    "\n",
    "DATA_PATH = \"./data/\"\n",
    "\n",
    "## Opening a file as a stream\n",
    "elec_stream = stream_from_file(path_to_csv_or_arff=DATA_PATH+\"electricity.csv\")\n",
    "\n",
    "elec_stream.restart()\n",
    "i = 0\n",
    "while elec_stream.has_more_instances():\n",
    "    instance = elec_stream.next_instance()\n",
    "    if i < 20: # prevent printing all the instances\n",
    "        print(f'x: {instance.x()}, y: {instance.y()}')\n",
    "    i+=1"
   ]
  },
  {
   "cell_type": "code",
   "execution_count": 3,
   "id": "38d831be-3560-4efd-89bd-1ec71f001833",
   "metadata": {},
   "outputs": [
    {
     "name": "stdout",
     "output_type": "stream",
     "text": [
      "@attribute period numeric\n",
      "1.0\n",
      "@attribute nswprice numeric\n",
      "0.050679\n",
      "@attribute nswdemand numeric\n",
      "0.288753\n",
      "@attribute vicprice numeric\n",
      "0.003542\n",
      "@attribute vicdemand numeric\n",
      "0.355256\n",
      "@attribute transfer numeric\n",
      "0.23114\n"
     ]
    }
   ],
   "source": [
    "# Getting some extra information about the instance through the MOA representation. \n",
    "moa_instance = instance.get_MOA_InstanceExample().getData()\n",
    "\n",
    "for i in range(0, moa_instance.numInputAttributes()):\n",
    "    print(moa_instance.attribute(i))\n",
    "    print(moa_instance.value(i))"
   ]
  },
  {
   "cell_type": "markdown",
   "id": "948e37ec-fbfd-43ea-a04a-7c11215452cc",
   "metadata": {},
   "source": [
    "## 1. Using scikit-learn\n",
    "\n",
    "* Example showing how a model from scikit-learn can be used with our ```Instance``` representation"
   ]
  },
  {
   "cell_type": "code",
   "execution_count": 28,
   "id": "2745848d-43d1-4d9e-a191-14e6be61bf7b",
   "metadata": {},
   "outputs": [
    {
     "data": {
      "text/plain": [
       "83.88064971751412"
      ]
     },
     "execution_count": 28,
     "metadata": {},
     "output_type": "execute_result"
    }
   ],
   "source": [
    "from sklearn import linear_model\n",
    "\n",
    "## Opening a file as a stream\n",
    "elec_stream = stream_from_file(path_to_csv_or_arff=DATA_PATH+\"electricity.csv\")\n",
    "\n",
    "# Creating a learner\n",
    "sklearn_SGD = linear_model.SGDClassifier()\n",
    "\n",
    "# Creating the evaluator\n",
    "ob_evaluator = ClassificationEvaluator(schema=elec_stream.get_schema())\n",
    "\n",
    "# Counter for partial fits\n",
    "partial_fit_count = 0\n",
    "while elec_stream.has_more_instances():\n",
    "    instance = elec_stream.next_instance()\n",
    "\n",
    "    if partial_fit_count > 0: # scikit-learn does not allows invoking predict in a model that was not fit before\n",
    "        prediction = sklearn_SGD.predict([instance.x()])\n",
    "    ob_evaluator.update(instance.y(), prediction)\n",
    "    sklearn_SGD.partial_fit([instance.x()], [instance.y()], classes=elec_stream.schema.get_label_indexes())\n",
    "    partial_fit_count += 1\n",
    "\n",
    "ob_evaluator.accuracy()"
   ]
  },
  {
   "cell_type": "code",
   "execution_count": 21,
   "id": "d9460aa8-beb8-4cc9-92dd-0f325a829eff",
   "metadata": {},
   "outputs": [
    {
     "data": {
      "text/plain": [
       "[0, 1]"
      ]
     },
     "execution_count": 21,
     "metadata": {},
     "output_type": "execute_result"
    }
   ],
   "source": [
    "elec_stream.schema.get_label_indexes()"
   ]
  },
  {
   "cell_type": "markdown",
   "id": "a48e9306-f459-4d8a-8608-9bd71a7600ae",
   "metadata": {},
   "source": [
    "## 2. Preprocessing using MOA"
   ]
  },
  {
   "cell_type": "markdown",
   "id": "55d070de-8697-4f98-a11b-eab4e3d5c281",
   "metadata": {},
   "source": [
    "### 2.1 Running onlineBagging without any preprocessing"
   ]
  },
  {
   "cell_type": "code",
   "execution_count": 5,
   "id": "14681f54-23a1-4f93-9145-abf484c91c54",
   "metadata": {},
   "outputs": [
    {
     "data": {
      "text/plain": [
       "79.05190677966102"
      ]
     },
     "execution_count": 5,
     "metadata": {},
     "output_type": "execute_result"
    }
   ],
   "source": [
    "## Test-then-train loop\n",
    "from ensembles import OnlineBagging\n",
    "from evaluation import ClassificationEvaluator\n",
    "\n",
    "## Opening a file as a stream\n",
    "elec_stream = stream_from_file(path_to_csv_or_arff=DATA_PATH+\"electricity.csv\")\n",
    "\n",
    "# Creating a learner\n",
    "ob_learner = OnlineBagging(schema=elec_stream.get_schema(), ensemble_size=5)\n",
    "\n",
    "# Creating the evaluator\n",
    "ob_evaluator = ClassificationEvaluator(schema=elec_stream.get_schema())\n",
    "\n",
    "while elec_stream.has_more_instances():\n",
    "    instance = elec_stream.next_instance()\n",
    "    \n",
    "    prediction = ob_learner.predict(instance)\n",
    "    ob_evaluator.update(instance.y(), prediction)\n",
    "    ob_learner.train(instance)\n",
    "\n",
    "ob_evaluator.accuracy()"
   ]
  },
  {
   "cell_type": "markdown",
   "id": "0c1360ef-0583-4c87-8645-1e2d701fffca",
   "metadata": {},
   "source": [
    "### 2.2 Online Bagging using the preprocessing method from MOA\n",
    "* The API is still a bit rough"
   ]
  },
  {
   "cell_type": "code",
   "execution_count": 7,
   "id": "f6fb628f-aefc-4bf1-8322-a175a16170e4",
   "metadata": {},
   "outputs": [
    {
     "data": {
      "text/plain": [
       "'ArffFileStream -f ./data/electricity.arff'"
      ]
     },
     "execution_count": 7,
     "metadata": {},
     "output_type": "execute_result"
    }
   ],
   "source": [
    "# shows the creation string, the __class__ is needed as a parameter to the function is the class used. \n",
    "elec_stream.moa_stream.getCLICreationString(elec_stream.moa_stream.__class__)"
   ]
  },
  {
   "cell_type": "code",
   "execution_count": 10,
   "id": "5cdc2a2f-3259-4431-943f-7392fe520e44",
   "metadata": {},
   "outputs": [
    {
     "data": {
      "text/plain": [
       "7"
      ]
     },
     "execution_count": 10,
     "metadata": {},
     "output_type": "execute_result"
    }
   ],
   "source": [
    "# Show the number of attributes (including the output)\n",
    "elec_stream.get_schema().num_attributes_including_output"
   ]
  },
  {
   "cell_type": "code",
   "execution_count": 6,
   "id": "ae9bb646-e0d1-4de6-b5a1-cff0f0a1b172",
   "metadata": {},
   "outputs": [
    {
     "data": {
      "text/plain": [
       "79.69632768361582"
      ]
     },
     "execution_count": 6,
     "metadata": {},
     "output_type": "execute_result"
    }
   ],
   "source": [
    "from stream import Stream\n",
    "from moa.streams.filters import StandardisationFilter, NormalisationFilter\n",
    "from moa.streams import FilteredStream\n",
    "\n",
    "# Open the stream from an ARFF file\n",
    "elec_stream = stream_from_file(path_to_csv_or_arff=DATA_PATH+\"electricity.arff\")\n",
    "# Create a FilterStream and use the NormalisationFilter\n",
    "elec_stream_normalised = Stream(CLI=f\"-s ({elec_stream.moa_stream.getCLICreationString(elec_stream.moa_stream.__class__)}) \\\n",
    "-f NormalisationFilter \", moa_stream=FilteredStream())\n",
    "\n",
    "# Creating a learner\n",
    "ob_learner = OnlineBagging(schema=elec_stream.get_schema(), ensemble_size=5)\n",
    "\n",
    "# Creating the evaluator\n",
    "ob_evaluator = ClassificationEvaluator(schema=elec_stream_normalised.get_schema())\n",
    "\n",
    "while elec_stream_normalised.has_more_instances():\n",
    "    instance = elec_stream_normalised.next_instance()\n",
    "    \n",
    "    prediction = ob_learner.predict(instance)\n",
    "    ob_evaluator.update(instance.y(), prediction)\n",
    "    ob_learner.train(instance)\n",
    "    # print(instance.x())\n",
    "\n",
    "ob_evaluator.accuracy()"
   ]
  },
  {
   "cell_type": "code",
   "execution_count": 50,
   "id": "ef2d1530-6103-467d-87ac-266057a68e4f",
   "metadata": {},
   "outputs": [
    {
     "data": {
      "text/plain": [
       "['__class__',\n",
       " '__delattr__',\n",
       " '__dict__',\n",
       " '__dir__',\n",
       " '__doc__',\n",
       " '__eq__',\n",
       " '__format__',\n",
       " '__ge__',\n",
       " '__getattribute__',\n",
       " '__getstate__',\n",
       " '__gt__',\n",
       " '__hash__',\n",
       " '__init__',\n",
       " '__init_subclass__',\n",
       " '__le__',\n",
       " '__lt__',\n",
       " '__module__',\n",
       " '__ne__',\n",
       " '__new__',\n",
       " '__reduce__',\n",
       " '__reduce_ex__',\n",
       " '__repr__',\n",
       " '__setattr__',\n",
       " '__sizeof__',\n",
       " '__str__',\n",
       " '__subclasshook__',\n",
       " '__weakref__',\n",
       " 'get_label_indexes',\n",
       " 'get_label_values',\n",
       " 'get_moa_header',\n",
       " 'get_num_attributes',\n",
       " 'get_valid_index_for_label',\n",
       " 'is_classification',\n",
       " 'is_regression',\n",
       " 'label_indexes',\n",
       " 'label_values',\n",
       " 'moa_header',\n",
       " 'num_attributes_including_output',\n",
       " 'regression']"
      ]
     },
     "execution_count": 50,
     "metadata": {},
     "output_type": "execute_result"
    }
   ],
   "source": [
    "dir(elec_stream_normalised.get_schema())"
   ]
  }
 ],
 "metadata": {
  "kernelspec": {
   "display_name": "Python 3 (ipykernel)",
   "language": "python",
   "name": "python3"
  },
  "language_info": {
   "codemirror_mode": {
    "name": "ipython",
    "version": 3
   },
   "file_extension": ".py",
   "mimetype": "text/x-python",
   "name": "python",
   "nbconvert_exporter": "python",
   "pygments_lexer": "ipython3",
   "version": "3.11.5"
  }
 },
 "nbformat": 4,
 "nbformat_minor": 5
}
