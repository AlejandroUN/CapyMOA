{
 "cells": [
  {
   "cell_type": "code",
   "execution_count": 5,
   "id": "be91302b-3d48-449a-9eeb-4444d86d8e7c",
   "metadata": {},
   "outputs": [
    {
     "name": "stdout",
     "output_type": "stream",
     "text": [
      "MOA jar path location (config.ini): /Users/gomeshe/Dropbox/ciencia_computacao/dev/Using-MOA-API/moa.jar\n",
      "JVM Location (system): \n",
      "/Users/gomeshe/Library/Java/JavaVirtualMachines/openjdk-20.0.1/Contents/Home\n",
      "JVM already started\n"
     ]
    }
   ],
   "source": [
    "from prepare_jpype import start_jpype\n",
    "start_jpype()\n",
    "\n",
    "from evaluation import test_train_loop_MOA, test_train_loop_RIVER"
   ]
  },
  {
   "cell_type": "code",
   "execution_count": 2,
   "id": "60bb1d0d-66e3-45f1-b7cc-15ae08cbe81a",
   "metadata": {},
   "outputs": [],
   "source": [
    "## Datasets paths\n",
    "csv_elec_tiny_path = '/Users/gomeshe/Desktop/data/electricity_tiny.csv'\n",
    "arff_elec_tiny_path = '/Users/gomeshe/Desktop/data/electricity_tiny.arff'"
   ]
  },
  {
   "cell_type": "markdown",
   "id": "517c68a0-3951-4202-b3eb-0b648f0e33ba",
   "metadata": {},
   "source": [
    "## Basic classification examples\n",
    "\n",
    "* Using the ```test_train_loop_MOA``` for MOA and ```test_train_loop_RIVER``` helper functions (see module test_train_loop)\n",
    "\n",
    "* These are just examples on how to run several algorithms, it is kind of repetitive, but might be useful to have an example. \n"
   ]
  },
  {
   "cell_type": "markdown",
   "id": "c7835c1a-35d0-42bb-9a4d-d990773cc0f6",
   "metadata": {},
   "source": [
    "## Examples using River"
   ]
  },
  {
   "cell_type": "code",
   "execution_count": 6,
   "id": "3d366b78-feeb-497a-8a05-578437600343",
   "metadata": {},
   "outputs": [],
   "source": [
    "import pandas as pd\n",
    "# Read the file to a dataframe, used by all examples\n",
    "river_elec_tiny = pd.read_csv(csv_elec_tiny_path).to_numpy()"
   ]
  },
  {
   "cell_type": "code",
   "execution_count": 8,
   "id": "d56e186b-a288-4953-9d95-74f25cfeff5e",
   "metadata": {},
   "outputs": [
    {
     "name": "stdout",
     "output_type": "stream",
     "text": [
      "ARFClassifier, 0.8410, 0.3747, 0.3741\n"
     ]
    }
   ],
   "source": [
    "from river.forest import ARFClassifier\n",
    "\n",
    "river_arf5 = ARFClassifier(\n",
    "    n_models=5,\n",
    "    max_features=0.60\n",
    ")\n",
    "\n",
    "acc, wallclock, cpu_time, df = test_train_loop_RIVER(dataset=river_elec_tiny, model=river_arf5)\n",
    "print(f\"{river_arf5}, {acc:.4f}, {wallclock:.4f}, {cpu_time:.4f}\")"
   ]
  },
  {
   "cell_type": "code",
   "execution_count": 5,
   "id": "0d9c9d33-52b2-4442-a577-396de0bf31e7",
   "metadata": {},
   "outputs": [
    {
     "name": "stdout",
     "output_type": "stream",
     "text": [
      "HoeffdingTreeClassifier, 0.8230, 0.0372, 0.0379\n"
     ]
    }
   ],
   "source": [
    "from river.tree import HoeffdingTreeClassifier\n",
    "\n",
    "river_ht = HoeffdingTreeClassifier()\n",
    "\n",
    "acc, wallclock, cpu_time, df = test_train_loop_RIVER(river_ht, river_elec_tiny)\n",
    "print(f\"{river_ht}, {acc:.4f}, {wallclock:.4f}, {cpu_time:.4f}\")"
   ]
  },
  {
   "cell_type": "code",
   "execution_count": 6,
   "id": "84f29ddd-2e97-4c31-945a-1129e8ca1833",
   "metadata": {},
   "outputs": [
    {
     "name": "stdout",
     "output_type": "stream",
     "text": [
      "KNNClassifier, 0.7560, 1.9004, 1.8937\n"
     ]
    }
   ],
   "source": [
    "from river.neighbors import KNNClassifier\n",
    "\n",
    "river_knn = KNNClassifier()\n",
    "\n",
    "acc, wallclock, cpu_time, df = test_train_loop_RIVER(model=river_knn, dataset=river_elec_tiny)\n",
    "print(f\"{river_knn}, {acc:.4f}, {wallclock:.4f}, {cpu_time:.4f}\")"
   ]
  },
  {
   "cell_type": "code",
   "execution_count": 7,
   "id": "47e22fbe-c42a-4cf0-9f40-0c408fc8185b",
   "metadata": {},
   "outputs": [
    {
     "name": "stdout",
     "output_type": "stream",
     "text": [
      "GaussianNB, 0.8490, 0.0285, 0.0285\n"
     ]
    }
   ],
   "source": [
    "from river.naive_bayes import GaussianNB\n",
    "\n",
    "river_gnb = GaussianNB()\n",
    "\n",
    "acc, wallclock, cpu_time, df = test_train_loop_RIVER(model=river_gnb, dataset=river_elec_tiny)\n",
    "print(f\"{river_gnb}, {acc:.4f}, {wallclock:.4f}, {cpu_time:.4f}\")"
   ]
  },
  {
   "cell_type": "code",
   "execution_count": 8,
   "id": "7f59847d-b33b-431e-8ddb-ee0a3a5375b7",
   "metadata": {},
   "outputs": [
    {
     "name": "stdout",
     "output_type": "stream",
     "text": [
      "SRPClassifier(HoeffdingTreeClassifier), 0.8940, 0.7320, 0.7318\n"
     ]
    }
   ],
   "source": [
    "from river.ensemble.streaming_random_patches import SRPClassifier\n",
    "\n",
    "river_srp = SRPClassifier(\n",
    "    n_models=5,\n",
    "    subspace_size=0.6\n",
    ")\n",
    "\n",
    "acc, wallclock, cpu_time, df = test_train_loop_RIVER(model=river_srp, dataset=river_elec_tiny)\n",
    "print(f\"{river_srp}, {acc:.4f}, {wallclock:.4f}, {cpu_time:.4f}\")"
   ]
  },
  {
   "cell_type": "code",
   "execution_count": 9,
   "id": "e25a96f4-7612-445b-b210-838d474fba2d",
   "metadata": {},
   "outputs": [
    {
     "name": "stdout",
     "output_type": "stream",
     "text": [
      "ExtremelyFastDecisionTreeClassifier, 0.8230, 0.2525, 0.2427\n"
     ]
    }
   ],
   "source": [
    "from river.tree import ExtremelyFastDecisionTreeClassifier\n",
    "\n",
    "river_EFDT = ExtremelyFastDecisionTreeClassifier()\n",
    "\n",
    "acc, wallclock, cpu_time, df = test_train_loop_RIVER(model=river_EFDT, dataset=river_elec_tiny)\n",
    "print(f\"{river_EFDT}, {acc:.4f}, {wallclock:.4f}, {cpu_time:.4f}\")"
   ]
  },
  {
   "cell_type": "markdown",
   "id": "15079978-5afa-4876-a0cc-ab0fcf3ab6ce",
   "metadata": {},
   "source": [
    "## Examples using MOA"
   ]
  },
  {
   "cell_type": "code",
   "execution_count": 10,
   "id": "389f00c6-22e0-4ed6-a73a-7c18d01c3fb8",
   "metadata": {},
   "outputs": [],
   "source": [
    "from moa.streams import ArffFileStream\n",
    "\n",
    "elec_tiny_arff = ArffFileStream(arff_elec_tiny_path, -1)\n",
    "elec_tiny_arff.prepareForUse()"
   ]
  },
  {
   "cell_type": "code",
   "execution_count": 11,
   "id": "9cf0778d-942f-44e2-bd79-e754e6c7735e",
   "metadata": {},
   "outputs": [
    {
     "name": "stdout",
     "output_type": "stream",
     "text": [
      "moa.classifiers.meta.AdaptiveRandomForest, 89.4500, 0.3876, 1.1303\n"
     ]
    }
   ],
   "source": [
    "from moa.classifiers.meta import AdaptiveRandomForest\n",
    "\n",
    "arf10 = AdaptiveRandomForest()\n",
    "arf10.getOptions().setViaCLIString(\"-s 5\")\n",
    "arf10.prepareForUse()\n",
    "\n",
    "elec_tiny_arff.restart()\n",
    "\n",
    "acc, wallclock, cpu_time, df = test_train_loop_MOA(elec_tiny_arff, arf10, maxInstances=2000, sampleFrequency=2000)\n",
    "print(f\"{arf10.getClass().getName()}, {acc:.4f}, {wallclock:.4f}, {cpu_time:.4f}\")"
   ]
  },
  {
   "cell_type": "code",
   "execution_count": 12,
   "id": "1270cf7b-3bf1-4092-9498-f5e6f91aea64",
   "metadata": {},
   "outputs": [
    {
     "name": "stdout",
     "output_type": "stream",
     "text": [
      "moa.classifiers.trees.HoeffdingTree, 86.0500, 0.0282, 0.0883\n"
     ]
    }
   ],
   "source": [
    "from moa.classifiers.trees import HoeffdingTree\n",
    "\n",
    "ht_moa = HoeffdingTree()\n",
    "ht_moa.prepareForUse()\n",
    "\n",
    "elec_tiny_arff.restart()\n",
    "\n",
    "acc, wallclock, cpu_time, df = test_train_loop_MOA(elec_tiny_arff, ht_moa, maxInstances=2000, sampleFrequency=2000)\n",
    "print(f\"{ht_moa.getClass().getName()}, {acc:.4f}, {wallclock:.4f}, {cpu_time:.4f}\")"
   ]
  },
  {
   "cell_type": "code",
   "execution_count": 13,
   "id": "c8ac0b21-a3bf-488b-b5cb-ce6289298ee1",
   "metadata": {},
   "outputs": [
    {
     "name": "stdout",
     "output_type": "stream",
     "text": [
      "moa.classifiers.lazy.kNN, 84.2167, 0.1976, 0.5912\n"
     ]
    }
   ],
   "source": [
    "from moa.classifiers.lazy import kNN\n",
    "\n",
    "knn_moa = kNN()\n",
    "knn_moa.prepareForUse()\n",
    "\n",
    "elec_tiny_arff.restart()\n",
    "\n",
    "acc, wallclock, cpu_time, df = test_train_loop_MOA(elec_tiny_arff, knn_moa, maxInstances=2000, sampleFrequency=2000)\n",
    "print(f\"{knn_moa.getClass().getName()}, {acc:.4f}, {wallclock:.4f}, {cpu_time:.4f}\")"
   ]
  },
  {
   "cell_type": "code",
   "execution_count": 14,
   "id": "15ccd3c4-f0d6-479d-b773-df230cfdf2aa",
   "metadata": {},
   "outputs": [
    {
     "name": "stdout",
     "output_type": "stream",
     "text": [
      "moa.classifiers.trees.EFDT, 83.8375, 0.0246, 0.0775\n"
     ]
    }
   ],
   "source": [
    "from moa.classifiers.trees import EFDT\n",
    "\n",
    "EFDT_moa = EFDT()\n",
    "EFDT_moa.prepareForUse()\n",
    "\n",
    "elec_tiny_arff.restart()\n",
    "\n",
    "acc, wallclock, cpu_time, df = test_train_loop_MOA(elec_tiny_arff, EFDT_moa, maxInstances=2000, sampleFrequency=2000)\n",
    "print(f\"{EFDT_moa.getClass().getName()}, {acc:.4f}, {wallclock:.4f}, {cpu_time:.4f}\")"
   ]
  },
  {
   "cell_type": "code",
   "execution_count": 15,
   "id": "e264098a-588a-456b-ae11-dced5b5ceb7f",
   "metadata": {},
   "outputs": [
    {
     "name": "stdout",
     "output_type": "stream",
     "text": [
      "moa.classifiers.bayes.NaiveBayes, 83.8700, 0.0181, 0.0508\n"
     ]
    }
   ],
   "source": [
    "from moa.classifiers.bayes import NaiveBayes\n",
    "\n",
    "NaiveBayes_moa = NaiveBayes()\n",
    "NaiveBayes_moa.prepareForUse()\n",
    "\n",
    "elec_tiny_arff.restart()\n",
    "\n",
    "acc, wallclock, cpu_time, df = test_train_loop_MOA(elec_tiny_arff, NaiveBayes_moa, maxInstances=2000, sampleFrequency=2000)\n",
    "print(f\"{NaiveBayes_moa.getClass().getName()}, {acc:.4f}, {wallclock:.4f}, {cpu_time:.4f}\")"
   ]
  },
  {
   "cell_type": "code",
   "execution_count": 16,
   "id": "6fa952e8-08e3-4e6f-88ad-dac1aaea94ef",
   "metadata": {},
   "outputs": [
    {
     "name": "stdout",
     "output_type": "stream",
     "text": [
      "moa.classifiers.meta.StreamingRandomPatches, 84.9417, 0.4210, 1.1560\n"
     ]
    }
   ],
   "source": [
    "from moa.classifiers.meta import StreamingRandomPatches\n",
    "\n",
    "SRP_moa = StreamingRandomPatches()\n",
    "SRP_moa.getOptions().setViaCLIString(\"-s 10\")\n",
    "SRP_moa.prepareForUse()\n",
    "\n",
    "elec_tiny_arff.restart()\n",
    "\n",
    "acc, wallclock, cpu_time, df = test_train_loop_MOA(elec_tiny_arff, SRP_moa, maxInstances=2000, sampleFrequency=2000)\n",
    "print(f\"{SRP_moa.getClass().getName()}, {acc:.4f}, {wallclock:.4f}, {cpu_time:.4f}\")"
   ]
  }
 ],
 "metadata": {
  "kernelspec": {
   "display_name": "Python 3 (ipykernel)",
   "language": "python",
   "name": "python3"
  },
  "language_info": {
   "codemirror_mode": {
    "name": "ipython",
    "version": 3
   },
   "file_extension": ".py",
   "mimetype": "text/x-python",
   "name": "python",
   "nbconvert_exporter": "python",
   "pygments_lexer": "ipython3",
   "version": "3.8.17"
  }
 },
 "nbformat": 4,
 "nbformat_minor": 5
}
