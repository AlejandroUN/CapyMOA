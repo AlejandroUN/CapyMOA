{
 "cells": [
  {
   "cell_type": "markdown",
   "id": "b773bf8e-c420-44e1-80a6-99f75dd12268",
   "metadata": {},
   "source": [
    "## Using simple Pytorch NeuralNetwork model with a MOA evaluator\n",
    "\n",
    "* Example showing how a simple Pytorch model can be used with our ```Instance``` representation and MOA evaluator\n",
    "**Make sure you install Pytorch in your environment (https://pytorch.org/)**\n",
    "\n",
    "**notebook last updated on 03/12/2023**"
   ]
  },
  {
   "cell_type": "code",
   "execution_count": 1,
   "id": "b02aaf7b-11b5-4512-8a3b-5c26d8235b3a",
   "metadata": {
    "ExecuteTime": {
     "end_time": "2023-12-03T08:38:53.192087Z",
     "start_time": "2023-12-03T08:38:51.692824Z"
    }
   },
   "outputs": [
    {
     "name": "stdout",
     "output_type": "stream",
     "text": [
      "MOA jar path location (config.ini): ./jar/moa.jar\n",
      "JVM Location (system): \n",
      "\n",
      "JVM args: ['-Xmx8g', '-Xss10M']\n",
      "Sucessfully started the JVM and added MOA jar to the class path\n"
     ]
    }
   ],
   "source": [
    "from prepare_jpype import start_jpype\n",
    "\n",
    "start_jpype()"
   ]
  },
  {
   "cell_type": "markdown",
   "id": "96cb3df1-190c-49ea-959b-292559df13e6",
   "metadata": {},
   "source": [
    "## 0. Reading data and accessing x()"
   ]
  },
  {
   "cell_type": "code",
   "execution_count": 2,
   "id": "3b7be7ed-97d2-437a-9ed9-fb71e4f33328",
   "metadata": {
    "ExecuteTime": {
     "end_time": "2023-12-03T08:38:59.769504Z",
     "start_time": "2023-12-03T08:38:57.307505Z"
    }
   },
   "outputs": [
    {
     "name": "stdout",
     "output_type": "stream",
     "text": [
      "x: [0.       0.056443 0.439155 0.003467 0.422915 0.414912], y: 1.0\n",
      "x: [0.021277 0.051699 0.415055 0.003467 0.422915 0.414912], y: 1.0\n",
      "x: [0.042553 0.051489 0.385004 0.003467 0.422915 0.414912], y: 1.0\n",
      "x: [0.06383  0.045485 0.314639 0.003467 0.422915 0.414912], y: 1.0\n",
      "x: [0.085106 0.042482 0.251116 0.003467 0.422915 0.414912], y: 0.0\n",
      "x: [0.106383 0.041161 0.207528 0.003467 0.422915 0.414912], y: 0.0\n",
      "x: [0.12766  0.041161 0.171824 0.003467 0.422915 0.414912], y: 0.0\n",
      "x: [0.148936 0.041161 0.152782 0.003467 0.422915 0.414912], y: 0.0\n",
      "x: [0.170213 0.041161 0.13493  0.003467 0.422915 0.414912], y: 0.0\n",
      "x: [0.191489 0.041161 0.140583 0.003467 0.422915 0.414912], y: 0.0\n",
      "x: [0.212766 0.044374 0.168997 0.003467 0.422915 0.414912], y: 1.0\n",
      "x: [0.234043 0.049868 0.212437 0.003467 0.422915 0.414912], y: 1.0\n",
      "x: [0.255319 0.051489 0.298721 0.003467 0.422915 0.414912], y: 1.0\n",
      "x: [0.276596 0.042482 0.39036  0.003467 0.422915 0.414912], y: 0.0\n",
      "x: [0.297872 0.040861 0.402261 0.003467 0.422915 0.414912], y: 0.0\n",
      "x: [0.319149 0.040711 0.462214 0.003467 0.422915 0.414912], y: 0.0\n",
      "x: [0.340426 0.040861 0.488248 0.003467 0.422915 0.414912], y: 0.0\n",
      "x: [0.361702 0.040711 0.493306 0.003467 0.422915 0.414912], y: 0.0\n",
      "x: [0.382979 0.041041 0.53258  0.003467 0.422915 0.414912], y: 0.0\n",
      "x: [0.404255 0.041161 0.546415 0.003467 0.422915 0.414912], y: 0.0\n"
     ]
    }
   ],
   "source": [
    "from stream import stream_from_file\n",
    "\n",
    "DATA_PATH = \"./data/\"\n",
    "\n",
    "## Opening a file as a stream\n",
    "elec_stream = stream_from_file(path_to_csv_or_arff=DATA_PATH+\"electricity.csv\")\n",
    "\n",
    "elec_stream.restart()\n",
    "i = 0\n",
    "while elec_stream.has_more_instances():\n",
    "    instance = elec_stream.next_instance()\n",
    "    if i < 20: # prevent printing all the instances\n",
    "        print(f'x: {instance.x()}, y: {instance.y()}')\n",
    "    i+=1"
   ]
  },
  {
   "cell_type": "code",
   "execution_count": 3,
   "id": "38d831be-3560-4efd-89bd-1ec71f001833",
   "metadata": {
    "ExecuteTime": {
     "end_time": "2023-12-03T08:39:01.484815Z",
     "start_time": "2023-12-03T08:39:01.477002Z"
    }
   },
   "outputs": [
    {
     "name": "stdout",
     "output_type": "stream",
     "text": [
      "Number of classes: 2\n",
      "Number of features/attributes: 6\n",
      "    @attribute period numeric\n",
      "    1.0\n",
      "    @attribute nswprice numeric\n",
      "    0.050679\n",
      "    @attribute nswdemand numeric\n",
      "    0.288753\n",
      "    @attribute vicprice numeric\n",
      "    0.003542\n",
      "    @attribute vicdemand numeric\n",
      "    0.355256\n",
      "    @attribute transfer numeric\n",
      "    0.23114\n"
     ]
    }
   ],
   "source": [
    "# Getting some extra information about the instance through the MOA representation. \n",
    "moa_instance = instance.get_MOA_InstanceExample().getData()\n",
    "print(f'Number of classes: {moa_instance.numClasses()}')\n",
    "print(f'Number of features/attributes: {moa_instance.numInputAttributes()}')\n",
    "\n",
    "for i in range(0, moa_instance.numInputAttributes()):\n",
    "    print(f'    {moa_instance.attribute(i)}')\n",
    "    print(f'    {moa_instance.value(i)}')"
   ]
  },
  {
   "cell_type": "markdown",
   "id": "3e2ee6cd888826d",
   "metadata": {
    "collapsed": false
   },
   "source": [
    "## 1. Using Pytorch model with MOA evaluator\n",
    "\n",
    "* Example showing how a simple Pytorch model can be used with our ```Instance``` representation and MOA evaluator\n",
    "* Uses CPU device\n",
    "* Model is initialized after receiving the first instance"
   ]
  },
  {
   "cell_type": "code",
   "execution_count": 4,
   "outputs": [
    {
     "name": "stdout",
     "output_type": "stream",
     "text": [
      "Using cpu device\n"
     ]
    }
   ],
   "source": [
    "import torch\n",
    "from torch import nn\n",
    "\n",
    "# Get cpu device for training.\n",
    "device = (\"cpu\")\n",
    "print(f\"Using {device} device\")\n",
    "\n",
    "# Define model\n",
    "class NeuralNetwork(nn.Module):\n",
    "    def __init__(self, input_size=0, number_of_classes=0):\n",
    "        super().__init__()\n",
    "        self.flatten = nn.Flatten()\n",
    "        self.linear_relu_stack = nn.Sequential(\n",
    "            nn.Linear(input_size, 512),\n",
    "            nn.ReLU(),\n",
    "            nn.Linear(512, 512),\n",
    "            nn.ReLU(),\n",
    "            nn.Linear(512, number_of_classes)\n",
    "        )\n",
    "\n",
    "    def forward(self, x):\n",
    "        x = self.flatten(x)\n",
    "        logits = self.linear_relu_stack(x)\n",
    "        return logits\n",
    "\n",
    "\n",
    "model = None\n",
    "optimizer = None\n",
    "loss_fn = nn.CrossEntropyLoss()\n"
   ],
   "metadata": {
    "collapsed": false,
    "ExecuteTime": {
     "end_time": "2023-12-03T08:39:14.442525Z",
     "start_time": "2023-12-03T08:39:11.361827Z"
    }
   },
   "id": "28c87878ee6de83f"
  },
  {
   "cell_type": "code",
   "execution_count": 5,
   "id": "10aa0ccfb7839e99",
   "metadata": {
    "collapsed": false,
    "ExecuteTime": {
     "end_time": "2023-12-03T08:40:17.878908Z",
     "start_time": "2023-12-03T08:39:23.127928Z"
    }
   },
   "outputs": [
    {
     "name": "stdout",
     "output_type": "stream",
     "text": [
      "NeuralNetwork(\n",
      "  (flatten): Flatten(start_dim=1, end_dim=-1)\n",
      "  (linear_relu_stack): Sequential(\n",
      "    (0): Linear(in_features=6, out_features=512, bias=True)\n",
      "    (1): ReLU()\n",
      "    (2): Linear(in_features=512, out_features=512, bias=True)\n",
      "    (3): ReLU()\n",
      "    (4): Linear(in_features=512, out_features=2, bias=True)\n",
      "  )\n",
      ")\n",
      "Accuracy at 1000 : 59.599999999999994\n",
      "Accuracy at 2000 : 63.7\n",
      "Accuracy at 3000 : 63.16666666666667\n",
      "Accuracy at 4000 : 64.0\n",
      "Accuracy at 5000 : 64.62\n",
      "Accuracy at 6000 : 64.51666666666667\n",
      "Accuracy at 7000 : 64.28571428571429\n",
      "Accuracy at 8000 : 64.4\n",
      "Accuracy at 9000 : 64.94444444444444\n",
      "Accuracy at 10000 : 65.39\n",
      "Accuracy at 11000 : 65.54545454545455\n",
      "Accuracy at 12000 : 65.76666666666667\n",
      "Accuracy at 13000 : 66.10769230769232\n",
      "Accuracy at 14000 : 66.7642857142857\n",
      "Accuracy at 15000 : 67.26666666666667\n",
      "Accuracy at 16000 : 67.43124999999999\n",
      "Accuracy at 17000 : 67.73529411764706\n",
      "Accuracy at 18000 : 68.22222222222221\n",
      "Accuracy at 19000 : 68.75263157894736\n",
      "Accuracy at 20000 : 69.235\n",
      "Accuracy at 21000 : 69.32857142857142\n",
      "Accuracy at 22000 : 69.73636363636363\n",
      "Accuracy at 23000 : 69.86956521739131\n",
      "Accuracy at 24000 : 70.1125\n",
      "Accuracy at 25000 : 70.292\n",
      "Accuracy at 26000 : 70.43846153846154\n",
      "Accuracy at 27000 : 70.74814814814815\n",
      "Accuracy at 28000 : 70.87857142857142\n",
      "Accuracy at 29000 : 70.95172413793104\n",
      "Accuracy at 30000 : 71.02000000000001\n",
      "Accuracy at 31000 : 71.14838709677419\n",
      "Accuracy at 32000 : 70.79375\n",
      "Accuracy at 33000 : 70.80606060606061\n",
      "Accuracy at 34000 : 70.78235294117647\n",
      "Accuracy at 35000 : 70.70571428571428\n",
      "Accuracy at 36000 : 70.83611111111111\n",
      "Accuracy at 37000 : 70.85405405405405\n",
      "Accuracy at 38000 : 71.07368421052631\n",
      "Accuracy at 39000 : 71.2897435897436\n",
      "Accuracy at 40000 : 71.49\n",
      "Accuracy at 41000 : 71.58292682926829\n",
      "Accuracy at 42000 : 71.73809523809524\n",
      "Accuracy at 43000 : 71.90232558139536\n",
      "Accuracy at 44000 : 71.92045454545455\n",
      "Accuracy at 45000 : 72.00222222222223\n",
      "Accuracy at 45312 : 72.01844985875707\n"
     ]
    }
   ],
   "source": [
    "from evaluation import ClassificationEvaluator\n",
    "\n",
    "# Creating the evaluator\n",
    "evaluator = ClassificationEvaluator(schema=elec_stream.get_schema())\n",
    "\n",
    "## Opening a file again to strat from the beginning\n",
    "elec_stream = stream_from_file(path_to_csv_or_arff=DATA_PATH+\"electricity.csv\")\n",
    "i = 0\n",
    "while elec_stream.has_more_instances():\n",
    "    i += 1\n",
    "    instance = elec_stream.next_instance()\n",
    "    if model is None:\n",
    "        moa_instance = instance.get_MOA_InstanceExample().getData()\n",
    "        # initialize the model and send it to the device\n",
    "        model = NeuralNetwork(input_size=moa_instance.numInputAttributes(), number_of_classes=moa_instance.numClasses()).to(device)\n",
    "        # set the optimizer\n",
    "        optimizer = torch.optim.SGD(model.parameters(), lr=1e-3)\n",
    "        print(model)\n",
    "    \n",
    "    X = torch.tensor(instance.x(), dtype=torch.float32)\n",
    "    y = torch.tensor(instance.y(), dtype=torch.long)\n",
    "    # set the device and add a dimension to the tensor\n",
    "    X, y = torch.unsqueeze(X.to(device), 0), torch.unsqueeze(y.to(device),0) \n",
    "    \n",
    "    # turn off gradient collection for test\n",
    "    with torch.no_grad():\n",
    "        pred = model(X)\n",
    "        prediction = torch.argmax(pred)\n",
    "\n",
    "    # update evaluator with predicted class\n",
    "    evaluator.update(instance.y(), prediction)\n",
    "  \n",
    "    # Compute prediction error\n",
    "    pred = model(X)\n",
    "    loss = loss_fn(pred, y)\n",
    "\n",
    "    # Backpropagation\n",
    "    loss.backward()\n",
    "    optimizer.step()\n",
    "    optimizer.zero_grad()\n",
    "    \n",
    "    if i % 1000 == 0:\n",
    "        print(f'Accuracy at {i} : {evaluator.accuracy()}')\n",
    "    \n",
    "print(f'Accuracy at {i} : {evaluator.accuracy()}')"
   ]
  },
  {
   "cell_type": "markdown",
   "source": [
    "## 2. How to use TensorBoard with PyTorch"
   ],
   "metadata": {
    "collapsed": false
   },
   "id": "6f7cccf5dfb93550"
  },
  {
   "cell_type": "markdown",
   "source": [
    "Install TensorBoard through the command line to visualize data you logged\n",
    "\n",
    "```sh\n",
    "pip install tensorboard\n",
    "```"
   ],
   "metadata": {
    "collapsed": false
   },
   "id": "43078242df35b155"
  },
  {
   "cell_type": "markdown",
   "source": [
    "Clear any logs from previous runs\n",
    "\n",
    "```sh\n",
    "rm -rf ./runs\n",
    "```"
   ],
   "metadata": {
    "collapsed": false
   },
   "id": "8ac091a2fe4cf209"
  },
  {
   "cell_type": "markdown",
   "source": [
    "Create a SummaryWriter instance."
   ],
   "metadata": {
    "collapsed": false
   },
   "id": "db2288d0cae3250e"
  },
  {
   "cell_type": "code",
   "execution_count": 6,
   "outputs": [],
   "source": [
    "from torch.utils.tensorboard import SummaryWriter\n",
    "writer = SummaryWriter()"
   ],
   "metadata": {
    "collapsed": false,
    "ExecuteTime": {
     "end_time": "2023-12-03T08:46:58.941683Z",
     "start_time": "2023-12-03T08:46:58.796558Z"
    }
   },
   "id": "8ec688a5b4af052f"
  },
  {
   "cell_type": "markdown",
   "source": [
    "Writer will output to ./runs/ directory by default."
   ],
   "metadata": {
    "collapsed": false
   },
   "id": "3bf9fc5f5d481206"
  },
  {
   "cell_type": "code",
   "execution_count": 7,
   "outputs": [],
   "source": [
    "from evaluation import ClassificationEvaluator\n",
    "\n",
    "# Creating the evaluator\n",
    "evaluator = ClassificationEvaluator(schema=elec_stream.get_schema())\n",
    "\n",
    "## Opening a file again to strat from the beginning\n",
    "elec_stream = stream_from_file(path_to_csv_or_arff=DATA_PATH+\"electricity.csv\")\n",
    "i = 0\n",
    "while elec_stream.has_more_instances():\n",
    "    i += 1\n",
    "    instance = elec_stream.next_instance()\n",
    "    if model is None:\n",
    "        moa_instance = instance.get_MOA_InstanceExample().getData()\n",
    "        # initialize the model and send it to the device\n",
    "        model = NeuralNetwork(input_size=moa_instance.numInputAttributes(), number_of_classes=moa_instance.numClasses()).to(device)\n",
    "        # set the optimizer\n",
    "        optimizer = torch.optim.SGD(model.parameters(), lr=1e-3)\n",
    "        print(model)\n",
    "    \n",
    "    X = torch.tensor(instance.x(), dtype=torch.float32)\n",
    "    y = torch.tensor(instance.y(), dtype=torch.long)\n",
    "    # set the device and add a dimension to the tensor\n",
    "    X, y = torch.unsqueeze(X.to(device), 0), torch.unsqueeze(y.to(device),0) \n",
    "    \n",
    "    # turn off gradient collection for test\n",
    "    with torch.no_grad():\n",
    "        pred = model(X)\n",
    "        prediction = torch.argmax(pred)\n",
    "\n",
    "    # update evaluator with predicted class\n",
    "    evaluator.update(instance.y(), prediction)\n",
    "  \n",
    "    # Compute prediction error\n",
    "    pred = model(X)\n",
    "    loss = loss_fn(pred, y)\n",
    "\n",
    "    # Backpropagation\n",
    "    loss.backward()\n",
    "    optimizer.step()\n",
    "    optimizer.zero_grad()\n",
    "    \n",
    "    if i % 1000 == 0:\n",
    "        writer.add_scalar(\"accuracy\", evaluator.accuracy(), i)\n",
    "    \n",
    "writer.add_scalar(\"accuracy\", evaluator.accuracy(), i)\n",
    "writer.flush()"
   ],
   "metadata": {
    "collapsed": false,
    "ExecuteTime": {
     "end_time": "2023-12-03T08:48:08.339851Z",
     "start_time": "2023-12-03T08:47:18.177021Z"
    }
   },
   "id": "b5d0d6dd10dacc37"
  },
  {
   "cell_type": "markdown",
   "source": [
    "Call flush() method to make sure that all pending events have been written to disk.\n",
    "\n",
    "See torch.utils.tensorboard tutorials to find more TensorBoard visualization types you can log.\n"
   ],
   "metadata": {
    "collapsed": false
   },
   "id": "4b0ff08045e19911"
  },
  {
   "cell_type": "code",
   "execution_count": 8,
   "outputs": [],
   "source": [
    "# If you do not need the summary writer anymore, call close() method.\n",
    "writer.close()"
   ],
   "metadata": {
    "collapsed": false,
    "ExecuteTime": {
     "end_time": "2023-12-03T08:49:14.066571Z",
     "start_time": "2023-12-03T08:49:14.058709Z"
    }
   },
   "id": "b228ae7468b3e4f1"
  },
  {
   "cell_type": "markdown",
   "source": [
    "\n",
    "```\n",
    "# This is formatted as code\n",
    "```\n",
    "\n",
    "## Run TensorBoard\n",
    "Now, start TensorBoard, specifying the root log directory you used above. \n",
    "Argument ``logdir`` points to directory where TensorBoard will look to find \n",
    "event files that it can display. TensorBoard will recursively walk \n",
    "the directory structure rooted at ``logdir``, looking for ``.*tfevents.*`` files.\n",
    "\n",
    "```sh\n",
    "tensorboard --logdir=runs\n",
    "```\n",
    "Go to the URL it provides\n",
    "\n",
    "This dashboard shows how the accuracy change with time. \n",
    "You can use it to also track training speed, learning rate, and other \n",
    "scalar values."
   ],
   "metadata": {
    "collapsed": false
   },
   "id": "41e42734ee9ce0f1"
  }
 ],
 "metadata": {
  "kernelspec": {
   "display_name": "Python 3 (ipykernel)",
   "language": "python",
   "name": "python3"
  },
  "language_info": {
   "codemirror_mode": {
    "name": "ipython",
    "version": 3
   },
   "file_extension": ".py",
   "mimetype": "text/x-python",
   "name": "python",
   "nbconvert_exporter": "python",
   "pygments_lexer": "ipython3",
   "version": "3.11.5"
  }
 },
 "nbformat": 4,
 "nbformat_minor": 5
}
