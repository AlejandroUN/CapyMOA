{
 "cells": [
  {
   "cell_type": "markdown",
   "id": "b773bf8e-c420-44e1-80a6-99f75dd12268",
   "metadata": {},
   "source": [
    "## Using simple Pytorch NeuralNetwork model with a MOA evaluator\n",
    "\n",
    "* Example showing how a simple Pytorch model can be used with our ```Instance``` representation and MOA evaluator\n",
    "**Make sure you install Pytorch in your environment (https://pytorch.org/)**\n",
    "\n",
    "**notebook last updated on 03/12/2023**"
   ]
  },
  {
   "cell_type": "code",
   "execution_count": 33,
   "id": "b02aaf7b-11b5-4512-8a3b-5c26d8235b3a",
   "metadata": {
    "ExecuteTime": {
     "end_time": "2023-12-02T11:41:32.573814Z",
     "start_time": "2023-12-02T11:41:32.514483Z"
    }
   },
   "outputs": [],
   "source": [
    "from prepare_jpype import start_jpype\n",
    "\n",
    "start_jpype()"
   ]
  },
  {
   "cell_type": "markdown",
   "id": "96cb3df1-190c-49ea-959b-292559df13e6",
   "metadata": {},
   "source": [
    "## 0. Reading data and accessing x()"
   ]
  },
  {
   "cell_type": "code",
   "execution_count": 34,
   "id": "3b7be7ed-97d2-437a-9ed9-fb71e4f33328",
   "metadata": {
    "ExecuteTime": {
     "end_time": "2023-12-02T11:41:33.776345Z",
     "start_time": "2023-12-02T11:41:32.548150Z"
    }
   },
   "outputs": [
    {
     "name": "stdout",
     "output_type": "stream",
     "text": [
      "x: [0.       0.056443 0.439155 0.003467 0.422915 0.414912], y: 1.0\n",
      "x: [0.021277 0.051699 0.415055 0.003467 0.422915 0.414912], y: 1.0\n",
      "x: [0.042553 0.051489 0.385004 0.003467 0.422915 0.414912], y: 1.0\n",
      "x: [0.06383  0.045485 0.314639 0.003467 0.422915 0.414912], y: 1.0\n",
      "x: [0.085106 0.042482 0.251116 0.003467 0.422915 0.414912], y: 0.0\n",
      "x: [0.106383 0.041161 0.207528 0.003467 0.422915 0.414912], y: 0.0\n",
      "x: [0.12766  0.041161 0.171824 0.003467 0.422915 0.414912], y: 0.0\n",
      "x: [0.148936 0.041161 0.152782 0.003467 0.422915 0.414912], y: 0.0\n",
      "x: [0.170213 0.041161 0.13493  0.003467 0.422915 0.414912], y: 0.0\n",
      "x: [0.191489 0.041161 0.140583 0.003467 0.422915 0.414912], y: 0.0\n",
      "x: [0.212766 0.044374 0.168997 0.003467 0.422915 0.414912], y: 1.0\n",
      "x: [0.234043 0.049868 0.212437 0.003467 0.422915 0.414912], y: 1.0\n",
      "x: [0.255319 0.051489 0.298721 0.003467 0.422915 0.414912], y: 1.0\n",
      "x: [0.276596 0.042482 0.39036  0.003467 0.422915 0.414912], y: 0.0\n",
      "x: [0.297872 0.040861 0.402261 0.003467 0.422915 0.414912], y: 0.0\n",
      "x: [0.319149 0.040711 0.462214 0.003467 0.422915 0.414912], y: 0.0\n",
      "x: [0.340426 0.040861 0.488248 0.003467 0.422915 0.414912], y: 0.0\n",
      "x: [0.361702 0.040711 0.493306 0.003467 0.422915 0.414912], y: 0.0\n",
      "x: [0.382979 0.041041 0.53258  0.003467 0.422915 0.414912], y: 0.0\n",
      "x: [0.404255 0.041161 0.546415 0.003467 0.422915 0.414912], y: 0.0\n"
     ]
    }
   ],
   "source": [
    "from stream import stream_from_file\n",
    "\n",
    "DATA_PATH = \"./data/\"\n",
    "\n",
    "## Opening a file as a stream\n",
    "elec_stream = stream_from_file(path_to_csv_or_arff=DATA_PATH+\"electricity.csv\")\n",
    "\n",
    "elec_stream.restart()\n",
    "i = 0\n",
    "while elec_stream.has_more_instances():\n",
    "    instance = elec_stream.next_instance()\n",
    "    if i < 20: # prevent printing all the instances\n",
    "        print(f'x: {instance.x()}, y: {instance.y()}')\n",
    "    i+=1"
   ]
  },
  {
   "cell_type": "code",
   "execution_count": 35,
   "id": "38d831be-3560-4efd-89bd-1ec71f001833",
   "metadata": {
    "ExecuteTime": {
     "end_time": "2023-12-02T11:41:33.782057Z",
     "start_time": "2023-12-02T11:41:33.775221Z"
    }
   },
   "outputs": [
    {
     "name": "stdout",
     "output_type": "stream",
     "text": [
      "Number of classes: 2\n",
      "Number of features/attributes: 6\n",
      "    @attribute period numeric\n",
      "    1.0\n",
      "    @attribute nswprice numeric\n",
      "    0.050679\n",
      "    @attribute nswdemand numeric\n",
      "    0.288753\n",
      "    @attribute vicprice numeric\n",
      "    0.003542\n",
      "    @attribute vicdemand numeric\n",
      "    0.355256\n",
      "    @attribute transfer numeric\n",
      "    0.23114\n"
     ]
    }
   ],
   "source": [
    "# Getting some extra information about the instance through the MOA representation. \n",
    "moa_instance = instance.get_MOA_InstanceExample().getData()\n",
    "print(f'Number of classes: {moa_instance.numClasses()}')\n",
    "print(f'Number of features/attributes: {moa_instance.numInputAttributes()}')\n",
    "\n",
    "for i in range(0, moa_instance.numInputAttributes()):\n",
    "    print(f'    {moa_instance.attribute(i)}')\n",
    "    print(f'    {moa_instance.value(i)}')"
   ]
  },
  {
   "cell_type": "markdown",
   "id": "3e2ee6cd888826d",
   "metadata": {
    "collapsed": false
   },
   "source": [
    "## 1. Using Pytorch model with MOA evaluator\n",
    "\n",
    "* Example showing how a simple Pytorch model can be used with our ```Instance``` representation and MOA evaluator\n",
    "* Uses CPU device\n",
    "* Model is initialized after receiving the first instance"
   ]
  },
  {
   "cell_type": "code",
   "execution_count": 36,
   "id": "10aa0ccfb7839e99",
   "metadata": {
    "collapsed": false,
    "ExecuteTime": {
     "end_time": "2023-12-02T11:42:34.255556Z",
     "start_time": "2023-12-02T11:41:33.792282Z"
    }
   },
   "outputs": [
    {
     "name": "stdout",
     "output_type": "stream",
     "text": [
      "Using cpu device\n",
      "NeuralNetwork(\n",
      "  (flatten): Flatten(start_dim=1, end_dim=-1)\n",
      "  (linear_relu_stack): Sequential(\n",
      "    (0): Linear(in_features=6, out_features=512, bias=True)\n",
      "    (1): ReLU()\n",
      "    (2): Linear(in_features=512, out_features=512, bias=True)\n",
      "    (3): ReLU()\n",
      "    (4): Linear(in_features=512, out_features=2, bias=True)\n",
      "  )\n",
      ")\n",
      "Accuracy at 1000 : 57.3\n",
      "Accuracy at 2000 : 62.2\n",
      "Accuracy at 3000 : 62.133333333333326\n",
      "Accuracy at 4000 : 63.1\n",
      "Accuracy at 5000 : 63.75999999999999\n",
      "Accuracy at 6000 : 63.7\n",
      "Accuracy at 7000 : 63.614285714285714\n",
      "Accuracy at 8000 : 63.74999999999999\n",
      "Accuracy at 9000 : 64.33333333333333\n",
      "Accuracy at 10000 : 64.77000000000001\n",
      "Accuracy at 11000 : 64.96363636363637\n",
      "Accuracy at 12000 : 65.28333333333333\n",
      "Accuracy at 13000 : 65.67692307692307\n",
      "Accuracy at 14000 : 66.40714285714286\n",
      "Accuracy at 15000 : 66.90666666666667\n",
      "Accuracy at 16000 : 67.06875\n",
      "Accuracy at 17000 : 67.41764705882353\n",
      "Accuracy at 18000 : 67.9\n",
      "Accuracy at 19000 : 68.43684210526317\n",
      "Accuracy at 20000 : 68.975\n",
      "Accuracy at 21000 : 69.10952380952381\n",
      "Accuracy at 22000 : 69.51818181818183\n",
      "Accuracy at 23000 : 69.7304347826087\n",
      "Accuracy at 24000 : 70.0125\n",
      "Accuracy at 25000 : 70.212\n",
      "Accuracy at 26000 : 70.39999999999999\n",
      "Accuracy at 27000 : 70.69259259259259\n",
      "Accuracy at 28000 : 70.83214285714286\n",
      "Accuracy at 29000 : 70.93103448275862\n",
      "Accuracy at 30000 : 71.02666666666667\n",
      "Accuracy at 31000 : 71.17096774193548\n",
      "Accuracy at 32000 : 70.86875\n",
      "Accuracy at 33000 : 70.89090909090909\n",
      "Accuracy at 34000 : 70.88823529411765\n",
      "Accuracy at 35000 : 70.83714285714285\n",
      "Accuracy at 36000 : 70.97222222222223\n",
      "Accuracy at 37000 : 70.9918918918919\n",
      "Accuracy at 38000 : 71.21052631578947\n",
      "Accuracy at 39000 : 71.45384615384616\n",
      "Accuracy at 40000 : 71.675\n",
      "Accuracy at 41000 : 71.79024390243902\n",
      "Accuracy at 42000 : 71.95714285714286\n",
      "Accuracy at 43000 : 72.11860465116278\n",
      "Accuracy at 44000 : 72.1590909090909\n",
      "Accuracy at 45000 : 72.24666666666667\n",
      "Accuracy at 45312 : 72.2700388418079\n"
     ]
    }
   ],
   "source": [
    "from evaluation import ClassificationEvaluator\n",
    "import torch\n",
    "from torch import nn\n",
    "\n",
    "# Get cpu device for training.\n",
    "device = (\"cpu\")\n",
    "print(f\"Using {device} device\")\n",
    "\n",
    "# Define model\n",
    "class NeuralNetwork(nn.Module):\n",
    "    def __init__(self, input_size=0, number_of_classes=0):\n",
    "        super().__init__()\n",
    "        self.flatten = nn.Flatten()\n",
    "        self.linear_relu_stack = nn.Sequential(\n",
    "            nn.Linear(input_size, 512),\n",
    "            nn.ReLU(),\n",
    "            nn.Linear(512, 512),\n",
    "            nn.ReLU(),\n",
    "            nn.Linear(512, number_of_classes)\n",
    "        )\n",
    "\n",
    "    def forward(self, x):\n",
    "        x = self.flatten(x)\n",
    "        logits = self.linear_relu_stack(x)\n",
    "        return logits\n",
    "\n",
    "\n",
    "model = None\n",
    "optimizer = None\n",
    "loss_fn = nn.CrossEntropyLoss()\n",
    "\n",
    "\n",
    "# Creating the evaluator\n",
    "evaluator = ClassificationEvaluator(schema=elec_stream.get_schema())\n",
    "\n",
    "## Opening a file again to strat from the beginning\n",
    "elec_stream = stream_from_file(path_to_csv_or_arff=DATA_PATH+\"electricity.csv\")\n",
    "i = 0\n",
    "while elec_stream.has_more_instances():\n",
    "    i += 1\n",
    "    instance = elec_stream.next_instance()\n",
    "    if model is None:\n",
    "        moa_instance = instance.get_MOA_InstanceExample().getData()\n",
    "        # initialize the model and send it to the device\n",
    "        model = NeuralNetwork(input_size=moa_instance.numInputAttributes(), number_of_classes=moa_instance.numClasses()).to(device)\n",
    "        # set the optimizer\n",
    "        optimizer = torch.optim.SGD(model.parameters(), lr=1e-3)\n",
    "        print(model)\n",
    "    \n",
    "    X = torch.tensor(instance.x(), dtype=torch.float32)\n",
    "    y = torch.tensor(instance.y(), dtype=torch.long)\n",
    "    # set the device and add a dimension to the tensor\n",
    "    X, y = torch.unsqueeze(X.to(device), 0), torch.unsqueeze(y.to(device),0) \n",
    "    \n",
    "    # turn off gradient collection for test\n",
    "    with torch.no_grad():\n",
    "        pred = model(X)\n",
    "        prediction = torch.argmax(pred)\n",
    "\n",
    "    # update evaluator with predicted class\n",
    "    evaluator.update(instance.y(), prediction)\n",
    "  \n",
    "    # Compute prediction error\n",
    "    pred = model(X)\n",
    "    loss = loss_fn(pred, y)\n",
    "\n",
    "    # Backpropagation\n",
    "    loss.backward()\n",
    "    optimizer.step()\n",
    "    optimizer.zero_grad()\n",
    "    \n",
    "    if i % 1000 == 0:\n",
    "        print(f'Accuracy at {i} : {evaluator.accuracy()}')\n",
    "    \n",
    "print(f'Accuracy at {i} : {evaluator.accuracy()}')"
   ]
  }
 ],
 "metadata": {
  "kernelspec": {
   "display_name": "Python 3 (ipykernel)",
   "language": "python",
   "name": "python3"
  },
  "language_info": {
   "codemirror_mode": {
    "name": "ipython",
    "version": 3
   },
   "file_extension": ".py",
   "mimetype": "text/x-python",
   "name": "python",
   "nbconvert_exporter": "python",
   "pygments_lexer": "ipython3",
   "version": "3.11.5"
  }
 },
 "nbformat": 4,
 "nbformat_minor": 5
}
